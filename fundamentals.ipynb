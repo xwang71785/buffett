{
 "cells": [
  {
   "cell_type": "code",
   "execution_count": null,
   "metadata": {},
   "outputs": [],
   "source": []
  },
  {
   "cell_type": "code",
   "execution_count": 1,
   "metadata": {},
   "outputs": [],
   "source": [
    "import urllib.request\n",
    "import numpy as np\n",
    "import pandas as pd\n",
    "import re"
   ]
  },
  {
   "cell_type": "markdown",
   "metadata": {},
   "source": [
    "#### 1.分红数据"
   ]
  },
  {
   "cell_type": "code",
   "execution_count": 3,
   "metadata": {},
   "outputs": [],
   "source": [
    "url1 = \"http://quotes.money.163.com/f10/fhpg_002270.html#01d05\"\n",
    "with urllib.request.urlopen(url1) as i:\n",
    "    html = i.read()"
   ]
  },
  {
   "cell_type": "code",
   "execution_count": 5,
   "metadata": {},
   "outputs": [
    {
     "data": {
      "text/html": [
       "<div>\n",
       "<style scoped>\n",
       "    .dataframe tbody tr th:only-of-type {\n",
       "        vertical-align: middle;\n",
       "    }\n",
       "\n",
       "    .dataframe tbody tr th {\n",
       "        vertical-align: top;\n",
       "    }\n",
       "\n",
       "    .dataframe thead th {\n",
       "        text-align: right;\n",
       "    }\n",
       "</style>\n",
       "<table border=\"1\" class=\"dataframe\">\n",
       "  <thead>\n",
       "    <tr style=\"text-align: right;\">\n",
       "      <th></th>\n",
       "      <th>公告日期</th>\n",
       "      <th>分红年度</th>\n",
       "      <th>送股</th>\n",
       "      <th>转增</th>\n",
       "      <th>派息</th>\n",
       "      <th>股权登记日</th>\n",
       "      <th>除权除息日</th>\n",
       "      <th>红股上市日</th>\n",
       "    </tr>\n",
       "  </thead>\n",
       "  <tbody>\n",
       "    <tr>\n",
       "      <th>0</th>\n",
       "      <td>2022-05-17</td>\n",
       "      <td>2021</td>\n",
       "      <td>--</td>\n",
       "      <td>--</td>\n",
       "      <td>0.140</td>\n",
       "      <td>2022-05-20</td>\n",
       "      <td>2022-05-23</td>\n",
       "      <td>--</td>\n",
       "    </tr>\n",
       "    <tr>\n",
       "      <th>1</th>\n",
       "      <td>2021-10-15</td>\n",
       "      <td>2021</td>\n",
       "      <td>--</td>\n",
       "      <td>--</td>\n",
       "      <td>0.160</td>\n",
       "      <td>2021-10-21</td>\n",
       "      <td>2021-10-22</td>\n",
       "      <td>--</td>\n",
       "    </tr>\n",
       "    <tr>\n",
       "      <th>2</th>\n",
       "      <td>2021-06-02</td>\n",
       "      <td>2020</td>\n",
       "      <td>--</td>\n",
       "      <td>--</td>\n",
       "      <td>0.027</td>\n",
       "      <td>2021-06-08</td>\n",
       "      <td>2021-06-09</td>\n",
       "      <td>--</td>\n",
       "    </tr>\n",
       "    <tr>\n",
       "      <th>3</th>\n",
       "      <td>2020-09-09</td>\n",
       "      <td>2020</td>\n",
       "      <td>--</td>\n",
       "      <td>--</td>\n",
       "      <td>0.050</td>\n",
       "      <td>2020-09-15</td>\n",
       "      <td>2020-09-16</td>\n",
       "      <td>--</td>\n",
       "    </tr>\n",
       "    <tr>\n",
       "      <th>4</th>\n",
       "      <td>2020-06-04</td>\n",
       "      <td>2019</td>\n",
       "      <td>--</td>\n",
       "      <td>--</td>\n",
       "      <td>0.042</td>\n",
       "      <td>2020-06-09</td>\n",
       "      <td>2020-06-10</td>\n",
       "      <td>--</td>\n",
       "    </tr>\n",
       "    <tr>\n",
       "      <th>5</th>\n",
       "      <td>2019-07-04</td>\n",
       "      <td>2018</td>\n",
       "      <td>--</td>\n",
       "      <td>--</td>\n",
       "      <td>0.043</td>\n",
       "      <td>2019-07-09</td>\n",
       "      <td>2019-07-10</td>\n",
       "      <td>--</td>\n",
       "    </tr>\n",
       "    <tr>\n",
       "      <th>6</th>\n",
       "      <td>2018-06-22</td>\n",
       "      <td>2017</td>\n",
       "      <td>0</td>\n",
       "      <td>5</td>\n",
       "      <td>0.120</td>\n",
       "      <td>2018-06-28</td>\n",
       "      <td>2018-06-29</td>\n",
       "      <td>2018-06-29</td>\n",
       "    </tr>\n",
       "    <tr>\n",
       "      <th>7</th>\n",
       "      <td>2016-06-18</td>\n",
       "      <td>2015</td>\n",
       "      <td>--</td>\n",
       "      <td>--</td>\n",
       "      <td>0.080</td>\n",
       "      <td>2016-06-23</td>\n",
       "      <td>2016-06-24</td>\n",
       "      <td>--</td>\n",
       "    </tr>\n",
       "    <tr>\n",
       "      <th>8</th>\n",
       "      <td>2015-03-13</td>\n",
       "      <td>2014</td>\n",
       "      <td>--</td>\n",
       "      <td>--</td>\n",
       "      <td>0.050</td>\n",
       "      <td>2015-03-19</td>\n",
       "      <td>2015-03-20</td>\n",
       "      <td>--</td>\n",
       "    </tr>\n",
       "    <tr>\n",
       "      <th>9</th>\n",
       "      <td>2014-04-25</td>\n",
       "      <td>2013</td>\n",
       "      <td>--</td>\n",
       "      <td>--</td>\n",
       "      <td>0.050</td>\n",
       "      <td>2014-04-30</td>\n",
       "      <td>2014-05-05</td>\n",
       "      <td>--</td>\n",
       "    </tr>\n",
       "    <tr>\n",
       "      <th>10</th>\n",
       "      <td>2013-06-14</td>\n",
       "      <td>2012</td>\n",
       "      <td>--</td>\n",
       "      <td>--</td>\n",
       "      <td>0.050</td>\n",
       "      <td>2013-06-19</td>\n",
       "      <td>2013-06-20</td>\n",
       "      <td>--</td>\n",
       "    </tr>\n",
       "    <tr>\n",
       "      <th>11</th>\n",
       "      <td>2012-03-07</td>\n",
       "      <td>2011</td>\n",
       "      <td>0</td>\n",
       "      <td>3</td>\n",
       "      <td>0.050</td>\n",
       "      <td>2012-03-12</td>\n",
       "      <td>2012-03-13</td>\n",
       "      <td>2012-03-13</td>\n",
       "    </tr>\n",
       "    <tr>\n",
       "      <th>12</th>\n",
       "      <td>2011-05-20</td>\n",
       "      <td>2010</td>\n",
       "      <td>0</td>\n",
       "      <td>0</td>\n",
       "      <td>0.100</td>\n",
       "      <td>2011-05-26</td>\n",
       "      <td>2011-05-27</td>\n",
       "      <td>--</td>\n",
       "    </tr>\n",
       "    <tr>\n",
       "      <th>13</th>\n",
       "      <td>2010-05-07</td>\n",
       "      <td>2009</td>\n",
       "      <td>0</td>\n",
       "      <td>0</td>\n",
       "      <td>0.200</td>\n",
       "      <td>2010-05-13</td>\n",
       "      <td>2010-05-14</td>\n",
       "      <td>--</td>\n",
       "    </tr>\n",
       "    <tr>\n",
       "      <th>14</th>\n",
       "      <td>2009-05-05</td>\n",
       "      <td>2008</td>\n",
       "      <td>0</td>\n",
       "      <td>0</td>\n",
       "      <td>0.100</td>\n",
       "      <td>2009-05-11</td>\n",
       "      <td>2009-05-12</td>\n",
       "      <td>--</td>\n",
       "    </tr>\n",
       "  </tbody>\n",
       "</table>\n",
       "</div>"
      ],
      "text/plain": [
       "          公告日期  分红年度  送股  转增     派息       股权登记日       除权除息日       红股上市日\n",
       "0   2022-05-17  2021  --  --  0.140  2022-05-20  2022-05-23          --\n",
       "1   2021-10-15  2021  --  --  0.160  2021-10-21  2021-10-22          --\n",
       "2   2021-06-02  2020  --  --  0.027  2021-06-08  2021-06-09          --\n",
       "3   2020-09-09  2020  --  --  0.050  2020-09-15  2020-09-16          --\n",
       "4   2020-06-04  2019  --  --  0.042  2020-06-09  2020-06-10          --\n",
       "5   2019-07-04  2018  --  --  0.043  2019-07-09  2019-07-10          --\n",
       "6   2018-06-22  2017   0   5  0.120  2018-06-28  2018-06-29  2018-06-29\n",
       "7   2016-06-18  2015  --  --  0.080  2016-06-23  2016-06-24          --\n",
       "8   2015-03-13  2014  --  --  0.050  2015-03-19  2015-03-20          --\n",
       "9   2014-04-25  2013  --  --  0.050  2014-04-30  2014-05-05          --\n",
       "10  2013-06-14  2012  --  --  0.050  2013-06-19  2013-06-20          --\n",
       "11  2012-03-07  2011   0   3  0.050  2012-03-12  2012-03-13  2012-03-13\n",
       "12  2011-05-20  2010   0   0  0.100  2011-05-26  2011-05-27          --\n",
       "13  2010-05-07  2009   0   0  0.200  2010-05-13  2010-05-14          --\n",
       "14  2009-05-05  2008   0   0  0.100  2009-05-11  2009-05-12          --"
      ]
     },
     "execution_count": 5,
     "metadata": {},
     "output_type": "execute_result"
    }
   ],
   "source": [
    "data1 = pd.read_html(html)[3]    # html中第4个表才是分红数据\n",
    "col = np.array(data1.columns.levels[0])    # 读人DataFrame中的数据是双层列名的\n",
    "data1.columns = ['公告日期','分红年度','送股','转增','派息','股权登记日','除权除息日','红股上市日']    # 对DataFrame重命名\n",
    "if col[2] == '分红方案（每10股）':    # 判断分红方案是否按10股派息\n",
    "    data1['派息'] = data1['派息'] / 10\n",
    "data1"
   ]
  },
  {
   "cell_type": "markdown",
   "metadata": {},
   "source": [
    "#### 2.业绩预告"
   ]
  },
  {
   "cell_type": "code",
   "execution_count": 2,
   "metadata": {},
   "outputs": [
    {
     "data": {
      "text/html": [
       "<div>\n",
       "<style scoped>\n",
       "    .dataframe tbody tr th:only-of-type {\n",
       "        vertical-align: middle;\n",
       "    }\n",
       "\n",
       "    .dataframe tbody tr th {\n",
       "        vertical-align: top;\n",
       "    }\n",
       "\n",
       "    .dataframe thead th {\n",
       "        text-align: right;\n",
       "    }\n",
       "</style>\n",
       "<table border=\"1\" class=\"dataframe\">\n",
       "  <thead>\n",
       "    <tr style=\"text-align: right;\">\n",
       "      <th></th>\n",
       "      <th>0</th>\n",
       "      <th>1</th>\n",
       "    </tr>\n",
       "  </thead>\n",
       "  <tbody>\n",
       "    <tr>\n",
       "      <th>0</th>\n",
       "      <td>报告日期</td>\n",
       "      <td>2021-12-31</td>\n",
       "    </tr>\n",
       "    <tr>\n",
       "      <th>1</th>\n",
       "      <td>预测类型</td>\n",
       "      <td>预升</td>\n",
       "    </tr>\n",
       "    <tr>\n",
       "      <th>2</th>\n",
       "      <td>预测摘要</td>\n",
       "      <td>预计2021年1-12月归属于上市公司股东的净利润为：416943903.45元，与上年同期...</td>\n",
       "    </tr>\n",
       "    <tr>\n",
       "      <th>3</th>\n",
       "      <td>预测内容</td>\n",
       "      <td>预计2021年1-12月归属于上市公司股东的净利润为：416943903.45元，与上年同期...</td>\n",
       "    </tr>\n",
       "  </tbody>\n",
       "</table>\n",
       "</div>"
      ],
      "text/plain": [
       "      0                                                  1\n",
       "0  报告日期                                         2021-12-31\n",
       "1  预测类型                                                 预升\n",
       "2  预测摘要  预计2021年1-12月归属于上市公司股东的净利润为：416943903.45元，与上年同期...\n",
       "3  预测内容  预计2021年1-12月归属于上市公司股东的净利润为：416943903.45元，与上年同期..."
      ]
     },
     "execution_count": 2,
     "metadata": {},
     "output_type": "execute_result"
    }
   ],
   "source": [
    "url2 = 'http://quotes.money.163.com/f10/yjyg_002270.html#01c03'\n",
    "with urllib.request.urlopen(url2) as i:\n",
    "    html = i.read()\n",
    "\n",
    "data2 = pd.read_html(html)[3]    # 网页中每个预告独立成一个表，历史预告可以用4，5，6等依次提取\n",
    "data2.[[0,1]]"
   ]
  },
  {
   "cell_type": "code",
   "execution_count": 62,
   "metadata": {},
   "outputs": [
    {
     "name": "stdout",
     "output_type": "stream",
     "text": [
      "预计2021年1-12月归属于上市公司股东的净利润为：416943903.45元，与上年同期相比变动幅度：45.13%。\n"
     ]
    }
   ],
   "source": [
    "# 从业绩预告中提取预增比例\n",
    "prediction = data2.iloc[2, 1]\n",
    "print(prediction)"
   ]
  },
  {
   "cell_type": "code",
   "execution_count": 79,
   "metadata": {},
   "outputs": [
    {
     "name": "stdout",
     "output_type": "stream",
     "text": [
      "0.45130000000000003\n"
     ]
    }
   ],
   "source": [
    "forecast = re.findall(r\"\\d+\\.?\\d+%\", prediction)    # 匹配百分数，可以是不带小数的。返回List\n",
    "growrh_rate_estimate = float(forecast[0][0:-1]) / 100    #将list中的第一个string提取并丢弃最后一个百分号，转换成浮点数。\n",
    "print(growrh_rate_estimate)\n"
   ]
  },
  {
   "cell_type": "code",
   "execution_count": 44,
   "metadata": {},
   "outputs": [
    {
     "name": "stdout",
     "output_type": "stream",
     "text": [
      "['45.13%', '45.13%', '17.71%', '3.35%', '9.25%']\n"
     ]
    }
   ],
   "source": [
    "#re.findall(r'\\b\\d+(?:\\.\\d+)?%?(?!\\S)', prediction)\n",
    "print(re.findall(r\"\\d+\\.\\d+%\", prediction))"
   ]
  }
 ],
 "metadata": {
  "kernelspec": {
   "display_name": "Python 3.6.8 ('quant')",
   "language": "python",
   "name": "python3"
  },
  "language_info": {
   "codemirror_mode": {
    "name": "ipython",
    "version": 3
   },
   "file_extension": ".py",
   "mimetype": "text/x-python",
   "name": "python",
   "nbconvert_exporter": "python",
   "pygments_lexer": "ipython3",
   "version": "3.6.8"
  },
  "orig_nbformat": 4,
  "vscode": {
   "interpreter": {
    "hash": "2d44fe577dda23051872a106718e33869c39c1c1dde443a8c9f1eec01b461181"
   }
  }
 },
 "nbformat": 4,
 "nbformat_minor": 2
}
