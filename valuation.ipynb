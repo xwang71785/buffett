{
 "cells": [
  {
   "cell_type": "code",
   "execution_count": 1,
   "metadata": {},
   "outputs": [],
   "source": [
    "# repo url(https://github.com/xwang71785/buffett.git)\n",
    "# 只针对中国大陆股票市场\n",
    "# 仅限于概念验证，勿用于实际投资中\n",
    "import numpy as np\n",
    "import pandas as pd\n",
    "import matplotlib.pyplot as plt\n",
    "import matplotlib as mpl"
   ]
  },
  {
   "cell_type": "code",
   "execution_count": 2,
   "metadata": {},
   "outputs": [],
   "source": [
    "import pandas_datareader.data as web\n",
    "import datetime as dt\n",
    "import matplotlib.dates as mdates"
   ]
  },
  {
   "cell_type": "code",
   "execution_count": 3,
   "metadata": {},
   "outputs": [
    {
     "name": "stdout",
     "output_type": "stream",
     "text": [
      "http://quotes.money.163.com/service/zcfzb_600585.html?type=year \n",
      " http://quotes.money.163.com/service/lrb_600585.html?type=year \n",
      " http://quotes.money.163.com/service/xjllb_600585.html?type=year\n"
     ]
    }
   ],
   "source": [
    "# 基于网易构造三张财务报表的数据源URL，根据需求变更stock中的股票代码\n",
    "server = \"http://quotes.money.163.com/\"\n",
    "path = \"service/\"\n",
    "table1 = \"zcfzb_\"\n",
    "table2 = \"lrb_\"\n",
    "table3 = \"xjllb_\"\n",
    "stock = \"600585\"\n",
    "type = \".html?type=year\"\n",
    "\n",
    "target1 = server + path + table1 + stock + type\n",
    "target2 = server + path + table2 + stock + type\n",
    "target3 = server + path + table3 + stock + type\n",
    "\n",
    "print(target1, '\\n', target2, '\\n', target3)"
   ]
  },
  {
   "cell_type": "code",
   "execution_count": 4,
   "metadata": {},
   "outputs": [],
   "source": [
    "# 获取三张财务报表CSV格式原始数据\n",
    "df1 = pd.read_csv(target1, header=0, prefix=\"V\", encoding=\"gb18030\")\n",
    "df2 = pd.read_csv(target2, header=0, prefix=\"V\", encoding=\"gb18030\")\n",
    "df3 = pd.read_csv(target3, header=0, prefix=\"V\", encoding=\"gb18030\")"
   ]
  },
  {
   "cell_type": "code",
   "execution_count": 5,
   "metadata": {},
   "outputs": [],
   "source": [
    "# 报表行列转置\n",
    "bs = df1.transpose()\n",
    "pl = pd.DataFrame(df2.values.T, columns=df2['报告日期'], index=df2.columns)\n",
    "cf = pd.DataFrame(df3.values.T, columns=df3[' 报告日期'], index=df2.columns)"
   ]
  },
  {
   "cell_type": "code",
   "execution_count": 6,
   "metadata": {},
   "outputs": [],
   "source": [
    "bs.drop('报告日期', inplace=True)    # 删除第一行\n",
    "bs.drop(bs.tail(1).index, inplace=True)    # 删除最后一行"
   ]
  },
  {
   "cell_type": "code",
   "execution_count": 7,
   "metadata": {},
   "outputs": [],
   "source": [
    "# 将字符型数据转换成数值型\n",
    "headers_bs = bs.columns\n",
    "headers_pl = pl.columns\n",
    "headers_cf = cf.columns\n",
    "\n",
    "\n",
    "for head in headers_bs:\n",
    "    bs[head] = pd.to_numeric(bs[head], errors='coerce').fillna(0) # 不符合转换条件的设为‘Nan’，再用0替换\n",
    "\n",
    "for head in headers_pl:\n",
    "    pl[head] = pd.to_numeric(pl[head], errors='coerce').fillna(0)\n",
    "\n",
    "for head in headers_cf:\n",
    "    cf[head] = pd.to_numeric(cf[head], errors='coerce').fillna(0)"
   ]
  },
  {
   "cell_type": "code",
   "execution_count": 8,
   "metadata": {},
   "outputs": [],
   "source": [
    "# 整理资产负债表\n",
    "bs_sum = pd.DataFrame()    # 利用column的数字标识进行分类汇总\n",
    "\n",
    "bs_sum['operat_current'] = bs[0]+bs[6]+bs[7]+bs[8]+bs[12]+bs[13]+bs[14]+bs[15]+bs[17]+bs[20]+bs[21]+bs[22]+bs[23]+bs[19]\n",
    "bs_sum['operat_non_curr'] = bs[29]+bs[28]+bs[33]+bs[34]+bs[35]+bs[36]+bs[37]+bs[38]+bs[39]+bs[40]+bs[32]+bs[43]+bs[44]+bs[45]+bs[46]+bs[42]+bs[49]+bs[48]\n",
    "bs_sum['operat_liability'] = bs[57]+bs[60]+bs[59]+bs[64]+bs[63]+bs[67]+bs[66]+bs[70]+bs[71]+bs[72]+bs[69]+bs[78]+bs[79]+bs[80]+bs[77]+bs[82]+bs[87]+bs[91]+bs[90]\n",
    "bs_sum['financial_assets'] = bs[2]+bs[3]+bs[4]+bs[5]+bs[1]+bs[10]+bs[11]+bs[9]+bs[16]+bs[18]+bs[26]+bs[27]+bs[25]+bs[31]+bs[30]+bs[41]+bs[47]\n",
    "bs_sum['financial_liability'] = bs[53]+bs[54]+bs[55]+bs[56]+bs[52]+bs[58]+bs[62]+bs[61]+bs[65]+bs[68]+bs[74]+bs[75]+bs[76]+bs[73]+bs[81]+bs[85]+bs[86]+bs[84]+bs[89]+bs[88]\n",
    "bs_sum['equity'] = bs[95]+bs[94]+bs[98]+bs[97]+bs[99]+bs[101]+bs[103]+bs[105]\n",
    "# 计算资本支出\n",
    "bs_sum['operat_net_assets'] = bs_sum['operat_current'] + bs_sum['operat_non_curr'] - bs_sum['operat_liability']\n",
    "bs_sum['capital_expense'] = bs_sum['operat_net_assets'] - bs_sum['operat_net_assets'].shift(-1)\n",
    "\n",
    "bs_sum = bs_sum.head(5)   # 只取过去5年数据\n",
    "\n",
    "total_shares = bs[94]    # 从资产负债表的‘实收资本’中获取流通股数量。疑问:数据中标明是金额万元，但核对后确认是流通股数量"
   ]
  },
  {
   "cell_type": "code",
   "execution_count": 9,
   "metadata": {},
   "outputs": [
    {
     "data": {
      "text/html": [
       "<div>\n",
       "<style scoped>\n",
       "    .dataframe tbody tr th:only-of-type {\n",
       "        vertical-align: middle;\n",
       "    }\n",
       "\n",
       "    .dataframe tbody tr th {\n",
       "        vertical-align: top;\n",
       "    }\n",
       "\n",
       "    .dataframe thead th {\n",
       "        text-align: right;\n",
       "    }\n",
       "</style>\n",
       "<table border=\"1\" class=\"dataframe\">\n",
       "  <thead>\n",
       "    <tr style=\"text-align: right;\">\n",
       "      <th></th>\n",
       "      <th>operat_current</th>\n",
       "      <th>operat_non_curr</th>\n",
       "      <th>operat_liability</th>\n",
       "      <th>financial_assets</th>\n",
       "      <th>financial_liability</th>\n",
       "      <th>equity</th>\n",
       "      <th>operat_net_assets</th>\n",
       "      <th>capital_expense</th>\n",
       "    </tr>\n",
       "  </thead>\n",
       "  <tbody>\n",
       "    <tr>\n",
       "      <th>2021-12-31</th>\n",
       "      <td>8709450.0</td>\n",
       "      <td>34280458.0</td>\n",
       "      <td>2252210.0</td>\n",
       "      <td>3233668.0</td>\n",
       "      <td>1286922.0</td>\n",
       "      <td>19190169.0</td>\n",
       "      <td>40737698.0</td>\n",
       "      <td>3379806.0</td>\n",
       "    </tr>\n",
       "    <tr>\n",
       "      <th>2020-12-31</th>\n",
       "      <td>7447513.0</td>\n",
       "      <td>31199939.0</td>\n",
       "      <td>1289560.0</td>\n",
       "      <td>3356807.0</td>\n",
       "      <td>1098629.0</td>\n",
       "      <td>16819758.0</td>\n",
       "      <td>37357892.0</td>\n",
       "      <td>3430156.0</td>\n",
       "    </tr>\n",
       "    <tr>\n",
       "      <th>2019-12-31</th>\n",
       "      <td>6801131.0</td>\n",
       "      <td>29149102.0</td>\n",
       "      <td>2022497.0</td>\n",
       "      <td>2582363.0</td>\n",
       "      <td>1224511.0</td>\n",
       "      <td>14217694.0</td>\n",
       "      <td>33927736.0</td>\n",
       "      <td>2125349.0</td>\n",
       "    </tr>\n",
       "    <tr>\n",
       "      <th>2018-12-31</th>\n",
       "      <td>5853693.0</td>\n",
       "      <td>27861927.0</td>\n",
       "      <td>1913233.0</td>\n",
       "      <td>1351835.0</td>\n",
       "      <td>1068405.0</td>\n",
       "      <td>11630762.0</td>\n",
       "      <td>31802387.0</td>\n",
       "      <td>3237326.0</td>\n",
       "    </tr>\n",
       "    <tr>\n",
       "      <th>2017-12-31</th>\n",
       "      <td>3466429.0</td>\n",
       "      <td>26672810.0</td>\n",
       "      <td>1574178.0</td>\n",
       "      <td>1178644.0</td>\n",
       "      <td>1443670.0</td>\n",
       "      <td>9167292.0</td>\n",
       "      <td>28565061.0</td>\n",
       "      <td>1106694.0</td>\n",
       "    </tr>\n",
       "  </tbody>\n",
       "</table>\n",
       "</div>"
      ],
      "text/plain": [
       "            operat_current  operat_non_curr  operat_liability  \\\n",
       "2021-12-31       8709450.0       34280458.0         2252210.0   \n",
       "2020-12-31       7447513.0       31199939.0         1289560.0   \n",
       "2019-12-31       6801131.0       29149102.0         2022497.0   \n",
       "2018-12-31       5853693.0       27861927.0         1913233.0   \n",
       "2017-12-31       3466429.0       26672810.0         1574178.0   \n",
       "\n",
       "            financial_assets  financial_liability      equity  \\\n",
       "2021-12-31         3233668.0            1286922.0  19190169.0   \n",
       "2020-12-31         3356807.0            1098629.0  16819758.0   \n",
       "2019-12-31         2582363.0            1224511.0  14217694.0   \n",
       "2018-12-31         1351835.0            1068405.0  11630762.0   \n",
       "2017-12-31         1178644.0            1443670.0   9167292.0   \n",
       "\n",
       "            operat_net_assets  capital_expense  \n",
       "2021-12-31         40737698.0        3379806.0  \n",
       "2020-12-31         37357892.0        3430156.0  \n",
       "2019-12-31         33927736.0        2125349.0  \n",
       "2018-12-31         31802387.0        3237326.0  \n",
       "2017-12-31         28565061.0        1106694.0  "
      ]
     },
     "execution_count": 9,
     "metadata": {},
     "output_type": "execute_result"
    }
   ],
   "source": [
    "bs_sum "
   ]
  },
  {
   "cell_type": "code",
   "execution_count": 12,
   "metadata": {},
   "outputs": [],
   "source": [
    "# 整理利润表\n",
    "pl_sum = pd.DataFrame()\n",
    "\n",
    "pl_sum['total_revenu'] = pl['营业总收入(万元)']\n",
    "pl_sum['growth_rate'] = (pl['营业总收入(万元)'] - pl['营业总收入(万元)'].shift(-1)) / pl['营业总收入(万元)'].shift(-1)     # 计算历史每年销售增长率\n",
    "pl_sum['intre_expen'] = pl['利息支出(万元)']\n",
    "pl_sum['total_profit'] = pl['利润总额(万元)']\n",
    "pl_sum['net_profit'] = pl['净利润(万元)']\n",
    "pl_sum['income_tax'] = pl['所得税费用(万元)']\n",
    "pl_sum['tax_rate'] = pl['所得税费用(万元)'] / pl['利润总额(万元)']    # 计算企业所得税率\n",
    "\n",
    "pl_sum.drop('报告日期', inplace=True)    # 删除第一行\n",
    "pl_sum = pl_sum.head(5)    # 提取历史5年数据"
   ]
  },
  {
   "cell_type": "code",
   "execution_count": 13,
   "metadata": {},
   "outputs": [
    {
     "data": {
      "text/html": [
       "<div>\n",
       "<style scoped>\n",
       "    .dataframe tbody tr th:only-of-type {\n",
       "        vertical-align: middle;\n",
       "    }\n",
       "\n",
       "    .dataframe tbody tr th {\n",
       "        vertical-align: top;\n",
       "    }\n",
       "\n",
       "    .dataframe thead th {\n",
       "        text-align: right;\n",
       "    }\n",
       "</style>\n",
       "<table border=\"1\" class=\"dataframe\">\n",
       "  <thead>\n",
       "    <tr style=\"text-align: right;\">\n",
       "      <th></th>\n",
       "      <th>total_revenu</th>\n",
       "      <th>growth_rate</th>\n",
       "      <th>intre_expen</th>\n",
       "      <th>total_profit</th>\n",
       "      <th>net_profit</th>\n",
       "      <th>income_tax</th>\n",
       "      <th>tax_rate</th>\n",
       "    </tr>\n",
       "  </thead>\n",
       "  <tbody>\n",
       "    <tr>\n",
       "      <th>2021-12-31</th>\n",
       "      <td>16795266.0</td>\n",
       "      <td>-0.047038</td>\n",
       "      <td>0.0</td>\n",
       "      <td>4411620.0</td>\n",
       "      <td>3416584.0</td>\n",
       "      <td>995036.0</td>\n",
       "      <td>0.225549</td>\n",
       "    </tr>\n",
       "    <tr>\n",
       "      <th>2020-12-31</th>\n",
       "      <td>17624268.0</td>\n",
       "      <td>0.122348</td>\n",
       "      <td>0.0</td>\n",
       "      <td>4710792.0</td>\n",
       "      <td>3637018.0</td>\n",
       "      <td>1073774.0</td>\n",
       "      <td>0.227939</td>\n",
       "    </tr>\n",
       "    <tr>\n",
       "      <th>2019-12-31</th>\n",
       "      <td>15703033.0</td>\n",
       "      <td>0.222953</td>\n",
       "      <td>0.0</td>\n",
       "      <td>4455685.0</td>\n",
       "      <td>3435201.0</td>\n",
       "      <td>1020484.0</td>\n",
       "      <td>0.229030</td>\n",
       "    </tr>\n",
       "    <tr>\n",
       "      <th>2018-12-31</th>\n",
       "      <td>12840263.0</td>\n",
       "      <td>0.704969</td>\n",
       "      <td>0.0</td>\n",
       "      <td>3962920.0</td>\n",
       "      <td>3063601.0</td>\n",
       "      <td>899318.0</td>\n",
       "      <td>0.226933</td>\n",
       "    </tr>\n",
       "    <tr>\n",
       "      <th>2017-12-31</th>\n",
       "      <td>7531082.0</td>\n",
       "      <td>0.346473</td>\n",
       "      <td>0.0</td>\n",
       "      <td>2122876.0</td>\n",
       "      <td>1642873.0</td>\n",
       "      <td>480002.0</td>\n",
       "      <td>0.226109</td>\n",
       "    </tr>\n",
       "  </tbody>\n",
       "</table>\n",
       "</div>"
      ],
      "text/plain": [
       "            total_revenu  growth_rate  intre_expen  total_profit  net_profit  \\\n",
       "2021-12-31    16795266.0    -0.047038          0.0     4411620.0   3416584.0   \n",
       "2020-12-31    17624268.0     0.122348          0.0     4710792.0   3637018.0   \n",
       "2019-12-31    15703033.0     0.222953          0.0     4455685.0   3435201.0   \n",
       "2018-12-31    12840263.0     0.704969          0.0     3962920.0   3063601.0   \n",
       "2017-12-31     7531082.0     0.346473          0.0     2122876.0   1642873.0   \n",
       "\n",
       "            income_tax  tax_rate  \n",
       "2021-12-31    995036.0  0.225549  \n",
       "2020-12-31   1073774.0  0.227939  \n",
       "2019-12-31   1020484.0  0.229030  \n",
       "2018-12-31    899318.0  0.226933  \n",
       "2017-12-31    480002.0  0.226109  "
      ]
     },
     "execution_count": 13,
     "metadata": {},
     "output_type": "execute_result"
    }
   ],
   "source": [
    "pl_sum"
   ]
  },
  {
   "cell_type": "code",
   "execution_count": 14,
   "metadata": {},
   "outputs": [],
   "source": [
    "# 整理现金流量表\n",
    "cf_sum = pd.DataFrame()\n",
    "# 提取和资本支出相关项目数据\n",
    "cf_sum['depr_fixed'] = cf[' 固定资产折旧、油气资产折耗、生产性物资折旧(万元)']    # 注意column的标题有一个前置空格\n",
    "cf_sum['intang_amort'] = cf[' 无形资产摊销(万元)']\n",
    "cf_sum['deferred'] = cf[' 长期待摊费用摊销(万元)']\n",
    "# cf_sum['depreciation'] = cf[' 固定资产折旧、油气资产折耗、生产性物资折旧(万元)']+cf[' 无形资产摊销(万元)']+cf[' 长期待摊费用摊销(万元)']\n",
    "\n",
    "cf_sum.drop('报告日期', inplace=True)    # 删除第一行\n",
    "cf_sum = cf_sum.head(5)"
   ]
  },
  {
   "cell_type": "code",
   "execution_count": 15,
   "metadata": {},
   "outputs": [
    {
     "data": {
      "text/html": [
       "<div>\n",
       "<style scoped>\n",
       "    .dataframe tbody tr th:only-of-type {\n",
       "        vertical-align: middle;\n",
       "    }\n",
       "\n",
       "    .dataframe tbody tr th {\n",
       "        vertical-align: top;\n",
       "    }\n",
       "\n",
       "    .dataframe thead th {\n",
       "        text-align: right;\n",
       "    }\n",
       "</style>\n",
       "<table border=\"1\" class=\"dataframe\">\n",
       "  <thead>\n",
       "    <tr style=\"text-align: right;\">\n",
       "      <th></th>\n",
       "      <th>depr_fixed</th>\n",
       "      <th>intang_amort</th>\n",
       "      <th>deferred</th>\n",
       "    </tr>\n",
       "  </thead>\n",
       "  <tbody>\n",
       "    <tr>\n",
       "      <th>2021-12-31</th>\n",
       "      <td>535191.0</td>\n",
       "      <td>60485.0</td>\n",
       "      <td>0.0</td>\n",
       "    </tr>\n",
       "    <tr>\n",
       "      <th>2020-12-31</th>\n",
       "      <td>498444.0</td>\n",
       "      <td>44512.0</td>\n",
       "      <td>0.0</td>\n",
       "    </tr>\n",
       "    <tr>\n",
       "      <th>2019-12-31</th>\n",
       "      <td>493163.0</td>\n",
       "      <td>33934.0</td>\n",
       "      <td>0.0</td>\n",
       "    </tr>\n",
       "    <tr>\n",
       "      <th>2018-12-31</th>\n",
       "      <td>464730.0</td>\n",
       "      <td>30611.0</td>\n",
       "      <td>0.0</td>\n",
       "    </tr>\n",
       "    <tr>\n",
       "      <th>2017-12-31</th>\n",
       "      <td>459028.0</td>\n",
       "      <td>24290.0</td>\n",
       "      <td>0.0</td>\n",
       "    </tr>\n",
       "  </tbody>\n",
       "</table>\n",
       "</div>"
      ],
      "text/plain": [
       "            depr_fixed  intang_amort  deferred\n",
       "2021-12-31    535191.0       60485.0       0.0\n",
       "2020-12-31    498444.0       44512.0       0.0\n",
       "2019-12-31    493163.0       33934.0       0.0\n",
       "2018-12-31    464730.0       30611.0       0.0\n",
       "2017-12-31    459028.0       24290.0       0.0"
      ]
     },
     "execution_count": 15,
     "metadata": {},
     "output_type": "execute_result"
    }
   ],
   "source": [
    "cf_sum"
   ]
  },
  {
   "cell_type": "code",
   "execution_count": 16,
   "metadata": {},
   "outputs": [],
   "source": [
    "# 汇总历史估值数据\n",
    "valuation = pd.DataFrame()\n",
    "\n",
    "valuation['profit_after_tax'] = pl_sum['net_profit'] + pl_sum['intre_expen'] * (1 - pl_sum['tax_rate'] )\n",
    "valuation['depreciation'] = cf_sum['depr_fixed'] + cf_sum['intang_amort'] + cf_sum['deferred']\n",
    "valuation['capital_expense'] = bs_sum['capital_expense']\n",
    "valuation['net_cash_flow'] = valuation['profit_after_tax'] + valuation['depreciation'] - valuation['capital_expense']"
   ]
  },
  {
   "cell_type": "code",
   "execution_count": 17,
   "metadata": {},
   "outputs": [
    {
     "data": {
      "text/html": [
       "<div>\n",
       "<style scoped>\n",
       "    .dataframe tbody tr th:only-of-type {\n",
       "        vertical-align: middle;\n",
       "    }\n",
       "\n",
       "    .dataframe tbody tr th {\n",
       "        vertical-align: top;\n",
       "    }\n",
       "\n",
       "    .dataframe thead th {\n",
       "        text-align: right;\n",
       "    }\n",
       "</style>\n",
       "<table border=\"1\" class=\"dataframe\">\n",
       "  <thead>\n",
       "    <tr style=\"text-align: right;\">\n",
       "      <th></th>\n",
       "      <th>profit_after_tax</th>\n",
       "      <th>depreciation</th>\n",
       "      <th>capital_expense</th>\n",
       "      <th>net_cash_flow</th>\n",
       "    </tr>\n",
       "  </thead>\n",
       "  <tbody>\n",
       "    <tr>\n",
       "      <th>2021-12-31</th>\n",
       "      <td>3416584.0</td>\n",
       "      <td>595676.0</td>\n",
       "      <td>3379806.0</td>\n",
       "      <td>632454.0</td>\n",
       "    </tr>\n",
       "    <tr>\n",
       "      <th>2020-12-31</th>\n",
       "      <td>3637018.0</td>\n",
       "      <td>542956.0</td>\n",
       "      <td>3430156.0</td>\n",
       "      <td>749818.0</td>\n",
       "    </tr>\n",
       "    <tr>\n",
       "      <th>2019-12-31</th>\n",
       "      <td>3435201.0</td>\n",
       "      <td>527097.0</td>\n",
       "      <td>2125349.0</td>\n",
       "      <td>1836949.0</td>\n",
       "    </tr>\n",
       "    <tr>\n",
       "      <th>2018-12-31</th>\n",
       "      <td>3063601.0</td>\n",
       "      <td>495341.0</td>\n",
       "      <td>3237326.0</td>\n",
       "      <td>321616.0</td>\n",
       "    </tr>\n",
       "    <tr>\n",
       "      <th>2017-12-31</th>\n",
       "      <td>1642873.0</td>\n",
       "      <td>483318.0</td>\n",
       "      <td>1106694.0</td>\n",
       "      <td>1019497.0</td>\n",
       "    </tr>\n",
       "  </tbody>\n",
       "</table>\n",
       "</div>"
      ],
      "text/plain": [
       "            profit_after_tax  depreciation  capital_expense  net_cash_flow\n",
       "2021-12-31         3416584.0      595676.0        3379806.0       632454.0\n",
       "2020-12-31         3637018.0      542956.0        3430156.0       749818.0\n",
       "2019-12-31         3435201.0      527097.0        2125349.0      1836949.0\n",
       "2018-12-31         3063601.0      495341.0        3237326.0       321616.0\n",
       "2017-12-31         1642873.0      483318.0        1106694.0      1019497.0"
      ]
     },
     "execution_count": 17,
     "metadata": {},
     "output_type": "execute_result"
    }
   ],
   "source": [
    "valuation"
   ]
  },
  {
   "cell_type": "code",
   "execution_count": 85,
   "metadata": {},
   "outputs": [],
   "source": [
    "# 估算收入的增长率\n",
    "growth_rate_max = 1+ pl_sum['growth_rate'].max()    # 最大\n",
    "growth_rate_mean = 1 + pl_sum['growth_rate'].mean()    # 平均\n",
    "growth_rate_min = 1 + pl_sum['growth_rate'].min()    # 最小\n",
    "# growth_rate3 = np.percentile(pl_sum['growth_rate'], 75)    # 75分位\n",
    "\n",
    "growth_rate = growth_rate_mean\n",
    "growth_rate_continue = 1.05\n",
    "\n",
    "\n",
    "# 未来5年的增长比例，第6个是永续经营的比例\n",
    "a = np.logspace(1,5,5, base=growth_rate)\n",
    "growth_rates = np.append(a, a[4] * growth_rate_continue)\n",
    "\n",
    "discount_rate = 0.12    # 折现率，仅供参考\n",
    "continue_rate = 0.05"
   ]
  },
  {
   "cell_type": "code",
   "execution_count": 50,
   "metadata": {},
   "outputs": [
    {
     "data": {
      "text/plain": [
       "array([21328999.55153494, 27086574.38765053, 34398355.64181097,\n",
       "       43683887.59414264, 55475966.79354594, 58249765.13322324])"
      ]
     },
     "execution_count": 50,
     "metadata": {},
     "output_type": "execute_result"
    }
   ],
   "source": [
    "growth_rates\n",
    "revenu_forecast = pl_sum.iloc[0, 0] * growth_rates\n",
    "revenu_forecast"
   ]
  },
  {
   "cell_type": "code",
   "execution_count": 41,
   "metadata": {},
   "outputs": [
    {
     "data": {
      "text/plain": [
       "2021-12-31    16795266.0\n",
       "2020-12-31    17624268.0\n",
       "2019-12-31    15703033.0\n",
       "2018-12-31    12840263.0\n",
       "2017-12-31     7531082.0\n",
       "Name: total_revenu, dtype: float64"
      ]
     },
     "execution_count": 41,
     "metadata": {},
     "output_type": "execute_result"
    }
   ],
   "source": [
    "pl_sum['total_revenu']"
   ]
  },
  {
   "cell_type": "code",
   "execution_count": 45,
   "metadata": {},
   "outputs": [],
   "source": [
    "# 预测未来净利润\n",
    "profit_forecast = valuation.iloc[0,0] * growth_rates\n"
   ]
  },
  {
   "cell_type": "code",
   "execution_count": 47,
   "metadata": {},
   "outputs": [
    {
     "data": {
      "text/plain": [
       "array([ 4338860.64107478,  5510097.70655949,  6997499.86169443,\n",
       "        8886413.07687215, 11285221.7125564 , 11849482.79818423])"
      ]
     },
     "execution_count": 47,
     "metadata": {},
     "output_type": "execute_result"
    }
   ],
   "source": [
    "profit_forecast"
   ]
  },
  {
   "cell_type": "code",
   "execution_count": 40,
   "metadata": {},
   "outputs": [
    {
     "data": {
      "text/plain": [
       "operat_current         0.457887\n",
       "operat_non_curr        2.115987\n",
       "operat_liability       0.128404\n",
       "financial_assets       0.166019\n",
       "financial_liability    0.086846\n",
       "equity                 1.007543\n",
       "operat_net_assets      2.445470\n",
       "capital_expense        0.188376\n",
       "dtype: float64"
      ]
     },
     "execution_count": 40,
     "metadata": {},
     "output_type": "execute_result"
    }
   ],
   "source": [
    "# 预测未来5年资本支出\n",
    "bs_rate = bs_sum.sum() / pl_sum['total_revenu'].sum()    # 各资本项占销售收入的历史比率\n",
    "bs_rate"
   ]
  },
  {
   "cell_type": "code",
   "execution_count": 52,
   "metadata": {},
   "outputs": [],
   "source": [
    "bs_forecast = bs_rate.head(5) * revenu_forecast[0]    # 当年bs项的预测，只提取前5项\n",
    "\n",
    "# b = np.logspace(0,4,5, base=growth_rate_max)\n",
    "# np.append(b, b[4] * 1.05)"
   ]
  },
  {
   "cell_type": "code",
   "execution_count": 53,
   "metadata": {},
   "outputs": [],
   "source": [
    "#np.expand_dims(b, 0).repeat(8, axis=0)\n",
    "#np.expand_dims(bs_forecast.T, 0).repeat(5, axis=1)\n",
    "bs_last = bs_sum.iloc[0].head(5)"
   ]
  },
  {
   "cell_type": "code",
   "execution_count": 54,
   "metadata": {},
   "outputs": [],
   "source": [
    "bs_forecast1 = bs_forecast * growth_rate\n",
    "bs_forecast2 = bs_forecast1 * growth_rate\n",
    "bs_forecast3 = bs_forecast2 * growth_rate\n",
    "bs_forecast4 = bs_forecast3 * growth_rate\n",
    "bs_forecast5 = bs_forecast4 * growth_rate_continue"
   ]
  },
  {
   "cell_type": "code",
   "execution_count": 55,
   "metadata": {},
   "outputs": [
    {
     "data": {
      "text/html": [
       "<div>\n",
       "<style scoped>\n",
       "    .dataframe tbody tr th:only-of-type {\n",
       "        vertical-align: middle;\n",
       "    }\n",
       "\n",
       "    .dataframe tbody tr th {\n",
       "        vertical-align: top;\n",
       "    }\n",
       "\n",
       "    .dataframe thead th {\n",
       "        text-align: right;\n",
       "    }\n",
       "</style>\n",
       "<table border=\"1\" class=\"dataframe\">\n",
       "  <thead>\n",
       "    <tr style=\"text-align: right;\">\n",
       "      <th></th>\n",
       "      <th>2021-12-31</th>\n",
       "      <th>0</th>\n",
       "      <th>1</th>\n",
       "      <th>2</th>\n",
       "      <th>3</th>\n",
       "      <th>4</th>\n",
       "      <th>5</th>\n",
       "    </tr>\n",
       "  </thead>\n",
       "  <tbody>\n",
       "    <tr>\n",
       "      <th>operat_current</th>\n",
       "      <td>8709450.0</td>\n",
       "      <td>9.766263e+06</td>\n",
       "      <td>1.240258e+07</td>\n",
       "      <td>1.575055e+07</td>\n",
       "      <td>2.000227e+07</td>\n",
       "      <td>2.540170e+07</td>\n",
       "      <td>2.667179e+07</td>\n",
       "    </tr>\n",
       "    <tr>\n",
       "      <th>operat_non_curr</th>\n",
       "      <td>34280458.0</td>\n",
       "      <td>4.513190e+07</td>\n",
       "      <td>5.731485e+07</td>\n",
       "      <td>7.278649e+07</td>\n",
       "      <td>9.243456e+07</td>\n",
       "      <td>1.173865e+08</td>\n",
       "      <td>1.232558e+08</td>\n",
       "    </tr>\n",
       "    <tr>\n",
       "      <th>operat_liability</th>\n",
       "      <td>2252210.0</td>\n",
       "      <td>2.738722e+06</td>\n",
       "      <td>3.478016e+06</td>\n",
       "      <td>4.416876e+06</td>\n",
       "      <td>5.609172e+06</td>\n",
       "      <td>7.123319e+06</td>\n",
       "      <td>7.479484e+06</td>\n",
       "    </tr>\n",
       "    <tr>\n",
       "      <th>financial_assets</th>\n",
       "      <td>3233668.0</td>\n",
       "      <td>3.541016e+06</td>\n",
       "      <td>4.496881e+06</td>\n",
       "      <td>5.710775e+06</td>\n",
       "      <td>7.252348e+06</td>\n",
       "      <td>9.210055e+06</td>\n",
       "      <td>9.670558e+06</td>\n",
       "    </tr>\n",
       "    <tr>\n",
       "      <th>financial_liability</th>\n",
       "      <td>1286922.0</td>\n",
       "      <td>1.852345e+06</td>\n",
       "      <td>2.352369e+06</td>\n",
       "      <td>2.987371e+06</td>\n",
       "      <td>3.793785e+06</td>\n",
       "      <td>4.817884e+06</td>\n",
       "      <td>5.058778e+06</td>\n",
       "    </tr>\n",
       "  </tbody>\n",
       "</table>\n",
       "</div>"
      ],
      "text/plain": [
       "                     2021-12-31             0             1             2  \\\n",
       "operat_current        8709450.0  9.766263e+06  1.240258e+07  1.575055e+07   \n",
       "operat_non_curr      34280458.0  4.513190e+07  5.731485e+07  7.278649e+07   \n",
       "operat_liability      2252210.0  2.738722e+06  3.478016e+06  4.416876e+06   \n",
       "financial_assets      3233668.0  3.541016e+06  4.496881e+06  5.710775e+06   \n",
       "financial_liability   1286922.0  1.852345e+06  2.352369e+06  2.987371e+06   \n",
       "\n",
       "                                3             4             5  \n",
       "operat_current       2.000227e+07  2.540170e+07  2.667179e+07  \n",
       "operat_non_curr      9.243456e+07  1.173865e+08  1.232558e+08  \n",
       "operat_liability     5.609172e+06  7.123319e+06  7.479484e+06  \n",
       "financial_assets     7.252348e+06  9.210055e+06  9.670558e+06  \n",
       "financial_liability  3.793785e+06  4.817884e+06  5.058778e+06  "
      ]
     },
     "execution_count": 55,
     "metadata": {},
     "output_type": "execute_result"
    }
   ],
   "source": [
    "operate = pd.concat([bs_last, bs_forecast, bs_forecast1, bs_forecast2, bs_forecast3, bs_forecast4, bs_forecast5], axis=1)\n",
    "operate"
   ]
  },
  {
   "cell_type": "code",
   "execution_count": 128,
   "metadata": {},
   "outputs": [],
   "source": [
    "net_liability = operate.iloc[4,0]-operate.iloc[3,0]"
   ]
  },
  {
   "cell_type": "code",
   "execution_count": 56,
   "metadata": {},
   "outputs": [],
   "source": [
    "net_operate = operate.iloc[0]+operate.iloc[1]-operate.iloc[2]"
   ]
  },
  {
   "cell_type": "code",
   "execution_count": 59,
   "metadata": {},
   "outputs": [],
   "source": [
    "# 计算未来5年和永续经营的资本支出\n",
    "capex_forecast = net_operate - net_operate.shift(1) \n",
    "#capex_forecast = capex_forecast.drop\n",
    "capex_forecast = np.array(capex_forecast)[1:7]"
   ]
  },
  {
   "cell_type": "code",
   "execution_count": 60,
   "metadata": {},
   "outputs": [
    {
     "data": {
      "text/plain": [
       "array([11421738.70901342, 14079978.74143925, 17880744.50632572,\n",
       "       22707493.38275038, 28837180.43984333,  6783241.6889686 ])"
      ]
     },
     "execution_count": 60,
     "metadata": {},
     "output_type": "execute_result"
    }
   ],
   "source": [
    "capex_forecast"
   ]
  },
  {
   "cell_type": "code",
   "execution_count": 33,
   "metadata": {},
   "outputs": [],
   "source": [
    "# 预测5年的折旧\n",
    "c = np.array(valuation['depreciation'])\n",
    "c = c[0:3]\n",
    "depre = c[::-1]"
   ]
  },
  {
   "cell_type": "code",
   "execution_count": 34,
   "metadata": {},
   "outputs": [],
   "source": [
    "# g = np.full(5, growth_rate_max)    # 用指定增长率构造一个5元数组\n",
    "# growth_rates = np.append(growth_rates, growth_rate_continue)\n",
    "\n",
    "for i in np.arange(3,9):    # 构造整数序列\n",
    "    d = (depre[(i-3)] + depre[(i-2)] + depre[(i-1)]) / 3     # 前三年的平均折旧金额\n",
    "    d = d * growth_rate\n",
    "    depre = np.append(depre, d)\n",
    "\n",
    "depre_forecast = depre[3:9]    # 截取最后6项"
   ]
  },
  {
   "cell_type": "code",
   "execution_count": 35,
   "metadata": {},
   "outputs": [
    {
     "data": {
      "text/plain": [
       "array([ 705125.93834435,  780488.03037883,  881038.59761258,\n",
       "       1001836.50015853, 1127438.15163719, 1274306.89788041])"
      ]
     },
     "execution_count": 35,
     "metadata": {},
     "output_type": "execute_result"
    }
   ],
   "source": [
    "depre_forecast"
   ]
  },
  {
   "cell_type": "code",
   "execution_count": 63,
   "metadata": {},
   "outputs": [],
   "source": [
    "forecast_net_cash = profit_forecast + depre_forecast - capex_forecast\n"
   ]
  },
  {
   "cell_type": "code",
   "execution_count": 113,
   "metadata": {},
   "outputs": [],
   "source": [
    "forecast_net_cash\n",
    "ca1 = forecast_net_cash[0:5]    # 只计算今后5年\n",
    "ca2 = np.concatenate(([0], ca1))    # 当年的现金流要设为0"
   ]
  },
  {
   "cell_type": "code",
   "execution_count": 121,
   "metadata": {},
   "outputs": [],
   "source": [
    "contin = forecast_net_cash[5] / (discount_rate - continue_rate)\n",
    "ca = np.concatenate((ca2, [contin]))"
   ]
  },
  {
   "cell_type": "code",
   "execution_count": 122,
   "metadata": {},
   "outputs": [
    {
     "data": {
      "text/plain": [
       "array([        0.        ,  -6377752.12959429,  -7789393.00450093,\n",
       "       -10002206.04701871, -12819243.8057197 , -16424520.57564973,\n",
       "        90579257.24422917])"
      ]
     },
     "execution_count": 122,
     "metadata": {},
     "output_type": "execute_result"
    }
   ],
   "source": [
    "netpv = np.npv(0.12, ca)\n",
    "print(netpv)"
   ]
  },
  {
   "cell_type": "code",
   "execution_count": 129,
   "metadata": {},
   "outputs": [],
   "source": [
    "net_pre_value = np.npv(discount_rate, ca)\n",
    "stock_value = (net_pre_value - net_liability) / total_shares"
   ]
  },
  {
   "cell_type": "code",
   "execution_count": 130,
   "metadata": {},
   "outputs": [
    {
     "data": {
      "text/plain": [
       "21.41224452281828"
      ]
     },
     "execution_count": 130,
     "metadata": {},
     "output_type": "execute_result"
    }
   ],
   "source": [
    "stock_value[0]"
   ]
  }
 ],
 "metadata": {
  "kernelspec": {
   "display_name": "Python 3.6.8 ('quant')",
   "language": "python",
   "name": "python3"
  },
  "language_info": {
   "codemirror_mode": {
    "name": "ipython",
    "version": 3
   },
   "file_extension": ".py",
   "mimetype": "text/x-python",
   "name": "python",
   "nbconvert_exporter": "python",
   "pygments_lexer": "ipython3",
   "version": "3.6.8"
  },
  "orig_nbformat": 4,
  "vscode": {
   "interpreter": {
    "hash": "2d44fe577dda23051872a106718e33869c39c1c1dde443a8c9f1eec01b461181"
   }
  }
 },
 "nbformat": 4,
 "nbformat_minor": 2
}
