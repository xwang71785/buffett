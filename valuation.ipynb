{
 "cells": [
  {
   "cell_type": "code",
   "execution_count": 1,
   "metadata": {},
   "outputs": [],
   "source": [
    "# repo url(https://github.com/xwang71785/buffett.git)\n",
    "# 只针对中国大陆股票市场\n",
    "# 仅限于概念验证，勿用于实际投资中\n",
    "# QQ：2908683294\n",
    "import numpy as np\n",
    "import pandas as pd\n",
    "import matplotlib.pyplot as plt\n",
    "import matplotlib as mpl"
   ]
  },
  {
   "cell_type": "code",
   "execution_count": 2,
   "metadata": {},
   "outputs": [],
   "source": [
    "import pandas_datareader.data as web\n",
    "import datetime as dt\n",
    "import matplotlib.dates as mdates"
   ]
  },
  {
   "cell_type": "markdown",
   "metadata": {},
   "source": [
    "#### 1.估值\n",
    "\n"
   ]
  },
  {
   "cell_type": "code",
   "execution_count": 3,
   "metadata": {},
   "outputs": [
    {
     "name": "stdout",
     "output_type": "stream",
     "text": [
      "http://quotes.money.163.com/service/zcfzb_600585.html?type=year \n",
      " http://quotes.money.163.com/service/lrb_600585.html?type=year \n",
      " http://quotes.money.163.com/service/xjllb_600585.html?type=year\n"
     ]
    }
   ],
   "source": [
    "# 基于网易构造三张财务报表的数据源URL\n",
    "server = \"http://quotes.money.163.com/\"\n",
    "path = \"service/\"\n",
    "table1 = \"zcfzb_\"\n",
    "table2 = \"lrb_\"\n",
    "table3 = \"xjllb_\"\n",
    "stock = \"600585\"    # 根据需求变更stock中的股票代码\n",
    "type = \".html?type=year\"\n",
    "\n",
    "target1 = server + path + table1 + stock + type\n",
    "target2 = server + path + table2 + stock + type\n",
    "target3 = server + path + table3 + stock + type\n",
    "\n",
    "print(target1, '\\n', target2, '\\n', target3)"
   ]
  },
  {
   "cell_type": "code",
   "execution_count": 4,
   "metadata": {},
   "outputs": [],
   "source": [
    "# 获取三张财务报表CSV格式原始数据\n",
    "df1 = pd.read_csv(target1, header=0, encoding=\"gb18030\")\n",
    "df2 = pd.read_csv(target2, header=0, encoding=\"gb18030\")\n",
    "df3 = pd.read_csv(target3, header=0, encoding=\"gb18030\")"
   ]
  },
  {
   "cell_type": "code",
   "execution_count": 55,
   "metadata": {},
   "outputs": [],
   "source": [
    "# 报表行列转置，方便进行矢量运算\n",
    "bs = df1.transpose()\n",
    "pl = pd.DataFrame(df2.values.T, columns=df2['报告日期'], index=df2.columns)\n",
    "cf = pd.DataFrame(df3.values.T, columns=df3[' 报告日期'], index=df2.columns)"
   ]
  },
  {
   "cell_type": "code",
   "execution_count": 56,
   "metadata": {},
   "outputs": [],
   "source": [
    "bs.drop('报告日期', inplace=True)    # 删除第一行\n",
    "bs.drop(bs.tail(1).index, inplace=True)    # 删除最后一行\n",
    "pl.drop('报告日期', inplace=True)    # 删除第一行\n",
    "pl.drop(pl.tail(1).index, inplace=True)    # 删除最后一行\n",
    "cf.drop('报告日期', inplace=True)    # 删除第一行\n",
    "cf.drop(cf.tail(1).index, inplace=True)    # 删除最后一行"
   ]
  },
  {
   "cell_type": "code",
   "execution_count": 70,
   "metadata": {},
   "outputs": [],
   "source": [
    "# 网易提供的CSV文件是字符型数据，无法直接进行算术元算。将字符型数据转换成数值型\n",
    "headers_bs = bs.columns\n",
    "headers_pl = pl.columns\n",
    "headers_cf = cf.columns\n",
    "\n",
    "for head in headers_bs:\n",
    "    bs[head] = pd.to_numeric(bs[head], errors='coerce').fillna(0) # 不符合转换条件的设为‘Nan’，再用0替换\n",
    "\n",
    "for head in headers_pl:\n",
    "    pl[head] = pd.to_numeric(pl[head], errors='coerce').fillna(0)\n",
    "\n",
    "for head in headers_cf:\n",
    "    cf[head] = pd.to_numeric(cf[head], errors='coerce').fillna(0)"
   ]
  },
  {
   "cell_type": "code",
   "execution_count": 8,
   "metadata": {},
   "outputs": [],
   "source": [
    "# 整理资产负债表\n",
    "bs_sum = pd.DataFrame()    # 利用column的数字标识进行分类汇总\n",
    "\n",
    "bs_sum['operat_current'] = bs[0]+bs[6]+bs[7]+bs[8]+bs[12]+bs[13]+bs[14]+bs[15]+bs[17]+bs[20]+bs[21]+bs[22]+bs[23]+bs[19]\n",
    "bs_sum['operat_non_curr'] = bs[29]+bs[28]+bs[36]+bs[37]+bs[38]+bs[39]+bs[40]+bs[43]+bs[44]+bs[45]+bs[46]+bs[42]+bs[49]+bs[48]\n",
    "bs_sum['operat_liability'] = bs[57]+bs[60]+bs[59]+bs[64]+bs[63]+bs[67]+bs[66]+bs[70]+bs[71]+bs[72]+bs[69]+bs[78]+bs[79]+bs[80]+bs[77]+bs[82]+bs[87]+bs[91]+bs[90]\n",
    "bs_sum['financial_assets'] = bs[2]+bs[3]+bs[4]+bs[5]+bs[1]+bs[10]+bs[11]+bs[9]+bs[16]+bs[18]+bs[26]+bs[27]+bs[25]+bs[31]+bs[30]+bs[41]+bs[47]\n",
    "bs_sum['financial_liability'] = bs[53]+bs[54]+bs[55]+bs[56]+bs[52]+bs[58]+bs[62]+bs[61]+bs[65]+bs[68]+bs[74]+bs[75]+bs[76]+bs[73]+bs[81]+bs[85]+bs[84]+bs[89]+bs[88]\n",
    "bs_sum['equity'] = bs[95]+bs[94]+bs[98]+bs[97]+bs[99]+bs[101]+bs[103]+bs[105]\n",
    "# 计算资本支出\n",
    "bs_sum['operat_net_assets'] = bs_sum['operat_current'] + bs_sum['operat_non_curr'] - bs_sum['operat_liability']\n",
    "bs_sum['capital_expense'] = bs_sum['operat_net_assets'] - bs_sum['operat_net_assets'].shift(-1)\n",
    "\n",
    "bs_sum = bs_sum.head(5)   # 只取过去5年数据\n",
    "\n",
    "total_shares = bs[94]    # 从资产负债表的‘实收资本’中获取流通股数量。疑问:数据中标明是金额万元，但核对后确认是流通股数量"
   ]
  },
  {
   "cell_type": "code",
   "execution_count": 12,
   "metadata": {},
   "outputs": [
    {
     "data": {
      "text/html": [
       "<style  type=\"text/css\" >\n",
       "</style><table id=\"T_77cd1792_1210_11ed_b7d1_b905f30f910e\" ><thead>    <tr>        <th class=\"blank level0\" ></th>        <th class=\"col_heading level0 col0\" >operat_current</th>        <th class=\"col_heading level0 col1\" >operat_non_curr</th>        <th class=\"col_heading level0 col2\" >operat_liability</th>        <th class=\"col_heading level0 col3\" >financial_assets</th>        <th class=\"col_heading level0 col4\" >financial_liability</th>        <th class=\"col_heading level0 col5\" >equity</th>        <th class=\"col_heading level0 col6\" >operat_net_assets</th>        <th class=\"col_heading level0 col7\" >capital_expense</th>    </tr></thead><tbody>\n",
       "                <tr>\n",
       "                        <th id=\"T_77cd1792_1210_11ed_b7d1_b905f30f910elevel0_row0\" class=\"row_heading level0 row0\" >2021-12-31</th>\n",
       "                        <td id=\"T_77cd1792_1210_11ed_b7d1_b905f30f910erow0_col0\" class=\"data row0 col0\" >8,709,450.0</td>\n",
       "                        <td id=\"T_77cd1792_1210_11ed_b7d1_b905f30f910erow0_col1\" class=\"data row0 col1\" >10,288,618.0</td>\n",
       "                        <td id=\"T_77cd1792_1210_11ed_b7d1_b905f30f910erow0_col2\" class=\"data row0 col2\" >2,252,210.0</td>\n",
       "                        <td id=\"T_77cd1792_1210_11ed_b7d1_b905f30f910erow0_col3\" class=\"data row0 col3\" >3,233,668.0</td>\n",
       "                        <td id=\"T_77cd1792_1210_11ed_b7d1_b905f30f910erow0_col4\" class=\"data row0 col4\" >1,251,286.0</td>\n",
       "                        <td id=\"T_77cd1792_1210_11ed_b7d1_b905f30f910erow0_col5\" class=\"data row0 col5\" >19,190,169.0</td>\n",
       "                        <td id=\"T_77cd1792_1210_11ed_b7d1_b905f30f910erow0_col6\" class=\"data row0 col6\" >16,745,858.0</td>\n",
       "                        <td id=\"T_77cd1792_1210_11ed_b7d1_b905f30f910erow0_col7\" class=\"data row0 col7\" >1,843,994.0</td>\n",
       "            </tr>\n",
       "            <tr>\n",
       "                        <th id=\"T_77cd1792_1210_11ed_b7d1_b905f30f910elevel0_row1\" class=\"row_heading level0 row1\" >2020-12-31</th>\n",
       "                        <td id=\"T_77cd1792_1210_11ed_b7d1_b905f30f910erow1_col0\" class=\"data row1 col0\" >7,447,513.0</td>\n",
       "                        <td id=\"T_77cd1792_1210_11ed_b7d1_b905f30f910erow1_col1\" class=\"data row1 col1\" >8,743,911.0</td>\n",
       "                        <td id=\"T_77cd1792_1210_11ed_b7d1_b905f30f910erow1_col2\" class=\"data row1 col2\" >1,289,560.0</td>\n",
       "                        <td id=\"T_77cd1792_1210_11ed_b7d1_b905f30f910erow1_col3\" class=\"data row1 col3\" >3,356,807.0</td>\n",
       "                        <td id=\"T_77cd1792_1210_11ed_b7d1_b905f30f910erow1_col4\" class=\"data row1 col4\" >1,098,629.0</td>\n",
       "                        <td id=\"T_77cd1792_1210_11ed_b7d1_b905f30f910erow1_col5\" class=\"data row1 col5\" >16,819,758.0</td>\n",
       "                        <td id=\"T_77cd1792_1210_11ed_b7d1_b905f30f910erow1_col6\" class=\"data row1 col6\" >14,901,864.0</td>\n",
       "                        <td id=\"T_77cd1792_1210_11ed_b7d1_b905f30f910erow1_col7\" class=\"data row1 col7\" >2,003,078.0</td>\n",
       "            </tr>\n",
       "            <tr>\n",
       "                        <th id=\"T_77cd1792_1210_11ed_b7d1_b905f30f910elevel0_row2\" class=\"row_heading level0 row2\" >2019-12-31</th>\n",
       "                        <td id=\"T_77cd1792_1210_11ed_b7d1_b905f30f910erow2_col0\" class=\"data row2 col0\" >6,801,131.0</td>\n",
       "                        <td id=\"T_77cd1792_1210_11ed_b7d1_b905f30f910erow2_col1\" class=\"data row2 col1\" >8,120,152.0</td>\n",
       "                        <td id=\"T_77cd1792_1210_11ed_b7d1_b905f30f910erow2_col2\" class=\"data row2 col2\" >2,022,497.0</td>\n",
       "                        <td id=\"T_77cd1792_1210_11ed_b7d1_b905f30f910erow2_col3\" class=\"data row2 col3\" >2,582,363.0</td>\n",
       "                        <td id=\"T_77cd1792_1210_11ed_b7d1_b905f30f910erow2_col4\" class=\"data row2 col4\" >1,224,511.0</td>\n",
       "                        <td id=\"T_77cd1792_1210_11ed_b7d1_b905f30f910erow2_col5\" class=\"data row2 col5\" >14,217,694.0</td>\n",
       "                        <td id=\"T_77cd1792_1210_11ed_b7d1_b905f30f910erow2_col6\" class=\"data row2 col6\" >12,898,786.0</td>\n",
       "                        <td id=\"T_77cd1792_1210_11ed_b7d1_b905f30f910erow2_col7\" class=\"data row2 col7\" >1,241,249.0</td>\n",
       "            </tr>\n",
       "            <tr>\n",
       "                        <th id=\"T_77cd1792_1210_11ed_b7d1_b905f30f910elevel0_row3\" class=\"row_heading level0 row3\" >2018-12-31</th>\n",
       "                        <td id=\"T_77cd1792_1210_11ed_b7d1_b905f30f910erow3_col0\" class=\"data row3 col0\" >5,853,693.0</td>\n",
       "                        <td id=\"T_77cd1792_1210_11ed_b7d1_b905f30f910erow3_col1\" class=\"data row3 col1\" >7,717,077.0</td>\n",
       "                        <td id=\"T_77cd1792_1210_11ed_b7d1_b905f30f910erow3_col2\" class=\"data row3 col2\" >1,913,233.0</td>\n",
       "                        <td id=\"T_77cd1792_1210_11ed_b7d1_b905f30f910erow3_col3\" class=\"data row3 col3\" >1,351,835.0</td>\n",
       "                        <td id=\"T_77cd1792_1210_11ed_b7d1_b905f30f910erow3_col4\" class=\"data row3 col4\" >1,068,405.0</td>\n",
       "                        <td id=\"T_77cd1792_1210_11ed_b7d1_b905f30f910erow3_col5\" class=\"data row3 col5\" >11,630,762.0</td>\n",
       "                        <td id=\"T_77cd1792_1210_11ed_b7d1_b905f30f910erow3_col6\" class=\"data row3 col6\" >11,657,537.0</td>\n",
       "                        <td id=\"T_77cd1792_1210_11ed_b7d1_b905f30f910erow3_col7\" class=\"data row3 col7\" >2,196,100.0</td>\n",
       "            </tr>\n",
       "            <tr>\n",
       "                        <th id=\"T_77cd1792_1210_11ed_b7d1_b905f30f910elevel0_row4\" class=\"row_heading level0 row4\" >2017-12-31</th>\n",
       "                        <td id=\"T_77cd1792_1210_11ed_b7d1_b905f30f910erow4_col0\" class=\"data row4 col0\" >3,466,429.0</td>\n",
       "                        <td id=\"T_77cd1792_1210_11ed_b7d1_b905f30f910erow4_col1\" class=\"data row4 col1\" >7,569,186.0</td>\n",
       "                        <td id=\"T_77cd1792_1210_11ed_b7d1_b905f30f910erow4_col2\" class=\"data row4 col2\" >1,574,178.0</td>\n",
       "                        <td id=\"T_77cd1792_1210_11ed_b7d1_b905f30f910erow4_col3\" class=\"data row4 col3\" >1,178,644.0</td>\n",
       "                        <td id=\"T_77cd1792_1210_11ed_b7d1_b905f30f910erow4_col4\" class=\"data row4 col4\" >1,443,670.0</td>\n",
       "                        <td id=\"T_77cd1792_1210_11ed_b7d1_b905f30f910erow4_col5\" class=\"data row4 col5\" >9,167,292.0</td>\n",
       "                        <td id=\"T_77cd1792_1210_11ed_b7d1_b905f30f910erow4_col6\" class=\"data row4 col6\" >9,461,437.0</td>\n",
       "                        <td id=\"T_77cd1792_1210_11ed_b7d1_b905f30f910erow4_col7\" class=\"data row4 col7\" >754,374.0</td>\n",
       "            </tr>\n",
       "    </tbody></table>"
      ],
      "text/plain": [
       "<pandas.io.formats.style.Styler at 0x7fbdb31caef0>"
      ]
     },
     "execution_count": 12,
     "metadata": {},
     "output_type": "execute_result"
    }
   ],
   "source": [
    "bs_sum.style.format(\"{:,}\")\n",
    "#bs_sum    # 输出整理完后的资产负债表"
   ]
  },
  {
   "cell_type": "code",
   "execution_count": 13,
   "metadata": {},
   "outputs": [],
   "source": [
    "# 整理利润表\n",
    "pl_sum = pd.DataFrame()\n",
    "\n",
    "pl_sum['total_revenu'] = pl['营业总收入(万元)']\n",
    "pl_sum['growth_rate'] = (pl['营业总收入(万元)'] - pl['营业总收入(万元)'].shift(-1)) / pl['营业总收入(万元)'].shift(-1)     # 计算历史每年销售增长率\n",
    "pl_sum['intre_expen'] = pl['利息支出(万元)']\n",
    "pl_sum['total_profit'] = pl['利润总额(万元)']\n",
    "pl_sum['net_profit'] = pl['净利润(万元)']\n",
    "pl_sum['income_tax'] = pl['所得税费用(万元)']\n",
    "pl_sum['tax_rate'] = pl['所得税费用(万元)'] / pl['利润总额(万元)']    # 计算企业所得税率\n",
    "\n",
    "pl_sum.drop('报告日期', inplace=True)    # 删除第一行\n",
    "pl_sum = pl_sum.head(5)    # 提取历史5年数据"
   ]
  },
  {
   "cell_type": "code",
   "execution_count": 21,
   "metadata": {},
   "outputs": [
    {
     "data": {
      "text/html": [
       "<div>\n",
       "<style scoped>\n",
       "    .dataframe tbody tr th:only-of-type {\n",
       "        vertical-align: middle;\n",
       "    }\n",
       "\n",
       "    .dataframe tbody tr th {\n",
       "        vertical-align: top;\n",
       "    }\n",
       "\n",
       "    .dataframe thead th {\n",
       "        text-align: right;\n",
       "    }\n",
       "</style>\n",
       "<table border=\"1\" class=\"dataframe\">\n",
       "  <thead>\n",
       "    <tr style=\"text-align: right;\">\n",
       "      <th></th>\n",
       "      <th>total_revenu</th>\n",
       "      <th>growth_rate</th>\n",
       "      <th>intre_expen</th>\n",
       "      <th>total_profit</th>\n",
       "      <th>net_profit</th>\n",
       "      <th>income_tax</th>\n",
       "      <th>tax_rate</th>\n",
       "    </tr>\n",
       "  </thead>\n",
       "  <tbody>\n",
       "    <tr>\n",
       "      <th>2021-12-31</th>\n",
       "      <td>16,795,266.00</td>\n",
       "      <td>-0.05</td>\n",
       "      <td>0.00</td>\n",
       "      <td>4,411,620.00</td>\n",
       "      <td>3,416,584.00</td>\n",
       "      <td>995,036.00</td>\n",
       "      <td>0.23</td>\n",
       "    </tr>\n",
       "    <tr>\n",
       "      <th>2020-12-31</th>\n",
       "      <td>17,624,268.00</td>\n",
       "      <td>0.12</td>\n",
       "      <td>0.00</td>\n",
       "      <td>4,710,792.00</td>\n",
       "      <td>3,637,018.00</td>\n",
       "      <td>1,073,774.00</td>\n",
       "      <td>0.23</td>\n",
       "    </tr>\n",
       "    <tr>\n",
       "      <th>2019-12-31</th>\n",
       "      <td>15,703,033.00</td>\n",
       "      <td>0.22</td>\n",
       "      <td>0.00</td>\n",
       "      <td>4,455,685.00</td>\n",
       "      <td>3,435,201.00</td>\n",
       "      <td>1,020,484.00</td>\n",
       "      <td>0.23</td>\n",
       "    </tr>\n",
       "    <tr>\n",
       "      <th>2018-12-31</th>\n",
       "      <td>12,840,263.00</td>\n",
       "      <td>0.70</td>\n",
       "      <td>0.00</td>\n",
       "      <td>3,962,920.00</td>\n",
       "      <td>3,063,601.00</td>\n",
       "      <td>899,318.00</td>\n",
       "      <td>0.23</td>\n",
       "    </tr>\n",
       "    <tr>\n",
       "      <th>2017-12-31</th>\n",
       "      <td>7,531,082.00</td>\n",
       "      <td>0.35</td>\n",
       "      <td>0.00</td>\n",
       "      <td>2,122,876.00</td>\n",
       "      <td>1,642,873.00</td>\n",
       "      <td>480,002.00</td>\n",
       "      <td>0.23</td>\n",
       "    </tr>\n",
       "  </tbody>\n",
       "</table>\n",
       "</div>"
      ],
      "text/plain": [
       "            total_revenu  growth_rate  intre_expen  total_profit   net_profit  \\\n",
       "2021-12-31 16,795,266.00        -0.05         0.00  4,411,620.00 3,416,584.00   \n",
       "2020-12-31 17,624,268.00         0.12         0.00  4,710,792.00 3,637,018.00   \n",
       "2019-12-31 15,703,033.00         0.22         0.00  4,455,685.00 3,435,201.00   \n",
       "2018-12-31 12,840,263.00         0.70         0.00  3,962,920.00 3,063,601.00   \n",
       "2017-12-31  7,531,082.00         0.35         0.00  2,122,876.00 1,642,873.00   \n",
       "\n",
       "             income_tax  tax_rate  \n",
       "2021-12-31   995,036.00      0.23  \n",
       "2020-12-31 1,073,774.00      0.23  \n",
       "2019-12-31 1,020,484.00      0.23  \n",
       "2018-12-31   899,318.00      0.23  \n",
       "2017-12-31   480,002.00      0.23  "
      ]
     },
     "execution_count": 21,
     "metadata": {},
     "output_type": "execute_result"
    }
   ],
   "source": [
    "pd.options.display.float_format = '{:,.2f}'.format    # 设定输出格式\n",
    "#pl_sum.style.format({'growth_rate':\"{:.2}\", 'tax_rate':'{:.2}'})\n",
    "pl_sum     # 输出整理完后的损益表"
   ]
  },
  {
   "cell_type": "code",
   "execution_count": 22,
   "metadata": {},
   "outputs": [],
   "source": [
    "# 整理现金流量表\n",
    "cf_sum = pd.DataFrame()\n",
    "# 提取和资本支出相关项目数据\n",
    "cf_sum['depr_fixed'] = cf[' 固定资产折旧、油气资产折耗、生产性物资折旧(万元)']    # 注意column的标题有一个前置空格\n",
    "cf_sum['intang_amort'] = cf[' 无形资产摊销(万元)']\n",
    "cf_sum['deferred'] = cf[' 长期待摊费用摊销(万元)']\n",
    "# cf_sum['depreciation'] = cf[' 固定资产折旧、油气资产折耗、生产性物资折旧(万元)']+cf[' 无形资产摊销(万元)']+cf[' 长期待摊费用摊销(万元)']\n",
    "\n",
    "cf_sum.drop('报告日期', inplace=True)    # 删除第一行\n",
    "cf_sum = cf_sum.head(5)"
   ]
  },
  {
   "cell_type": "code",
   "execution_count": 23,
   "metadata": {},
   "outputs": [
    {
     "data": {
      "text/html": [
       "<div>\n",
       "<style scoped>\n",
       "    .dataframe tbody tr th:only-of-type {\n",
       "        vertical-align: middle;\n",
       "    }\n",
       "\n",
       "    .dataframe tbody tr th {\n",
       "        vertical-align: top;\n",
       "    }\n",
       "\n",
       "    .dataframe thead th {\n",
       "        text-align: right;\n",
       "    }\n",
       "</style>\n",
       "<table border=\"1\" class=\"dataframe\">\n",
       "  <thead>\n",
       "    <tr style=\"text-align: right;\">\n",
       "      <th></th>\n",
       "      <th>depr_fixed</th>\n",
       "      <th>intang_amort</th>\n",
       "      <th>deferred</th>\n",
       "    </tr>\n",
       "  </thead>\n",
       "  <tbody>\n",
       "    <tr>\n",
       "      <th>2021-12-31</th>\n",
       "      <td>535,191.00</td>\n",
       "      <td>60,485.00</td>\n",
       "      <td>0.00</td>\n",
       "    </tr>\n",
       "    <tr>\n",
       "      <th>2020-12-31</th>\n",
       "      <td>498,444.00</td>\n",
       "      <td>44,512.00</td>\n",
       "      <td>0.00</td>\n",
       "    </tr>\n",
       "    <tr>\n",
       "      <th>2019-12-31</th>\n",
       "      <td>493,163.00</td>\n",
       "      <td>33,934.00</td>\n",
       "      <td>0.00</td>\n",
       "    </tr>\n",
       "    <tr>\n",
       "      <th>2018-12-31</th>\n",
       "      <td>464,730.00</td>\n",
       "      <td>30,611.00</td>\n",
       "      <td>0.00</td>\n",
       "    </tr>\n",
       "    <tr>\n",
       "      <th>2017-12-31</th>\n",
       "      <td>459,028.00</td>\n",
       "      <td>24,290.00</td>\n",
       "      <td>0.00</td>\n",
       "    </tr>\n",
       "  </tbody>\n",
       "</table>\n",
       "</div>"
      ],
      "text/plain": [
       "            depr_fixed  intang_amort  deferred\n",
       "2021-12-31  535,191.00     60,485.00      0.00\n",
       "2020-12-31  498,444.00     44,512.00      0.00\n",
       "2019-12-31  493,163.00     33,934.00      0.00\n",
       "2018-12-31  464,730.00     30,611.00      0.00\n",
       "2017-12-31  459,028.00     24,290.00      0.00"
      ]
     },
     "execution_count": 23,
     "metadata": {},
     "output_type": "execute_result"
    }
   ],
   "source": [
    "cf_sum    # 输出整理完的现金流量表"
   ]
  },
  {
   "cell_type": "code",
   "execution_count": 24,
   "metadata": {},
   "outputs": [],
   "source": [
    "# 汇总历史估值数据\n",
    "valuation = pd.DataFrame()\n",
    "\n",
    "valuation['profit_after_tax'] = pl_sum['net_profit'] + pl_sum['intre_expen'] * (1 - pl_sum['tax_rate'] )\n",
    "valuation['depreciation'] = cf_sum['depr_fixed'] + cf_sum['intang_amort'] + cf_sum['deferred']\n",
    "valuation['capital_expense'] = bs_sum['capital_expense']\n",
    "valuation['net_cash_flow'] = valuation['profit_after_tax'] + valuation['depreciation'] - valuation['capital_expense']"
   ]
  },
  {
   "cell_type": "code",
   "execution_count": 25,
   "metadata": {},
   "outputs": [
    {
     "data": {
      "text/html": [
       "<div>\n",
       "<style scoped>\n",
       "    .dataframe tbody tr th:only-of-type {\n",
       "        vertical-align: middle;\n",
       "    }\n",
       "\n",
       "    .dataframe tbody tr th {\n",
       "        vertical-align: top;\n",
       "    }\n",
       "\n",
       "    .dataframe thead th {\n",
       "        text-align: right;\n",
       "    }\n",
       "</style>\n",
       "<table border=\"1\" class=\"dataframe\">\n",
       "  <thead>\n",
       "    <tr style=\"text-align: right;\">\n",
       "      <th></th>\n",
       "      <th>profit_after_tax</th>\n",
       "      <th>depreciation</th>\n",
       "      <th>capital_expense</th>\n",
       "      <th>net_cash_flow</th>\n",
       "    </tr>\n",
       "  </thead>\n",
       "  <tbody>\n",
       "    <tr>\n",
       "      <th>2021-12-31</th>\n",
       "      <td>3,416,584.00</td>\n",
       "      <td>595,676.00</td>\n",
       "      <td>1,843,994.00</td>\n",
       "      <td>2,168,266.00</td>\n",
       "    </tr>\n",
       "    <tr>\n",
       "      <th>2020-12-31</th>\n",
       "      <td>3,637,018.00</td>\n",
       "      <td>542,956.00</td>\n",
       "      <td>2,003,078.00</td>\n",
       "      <td>2,176,896.00</td>\n",
       "    </tr>\n",
       "    <tr>\n",
       "      <th>2019-12-31</th>\n",
       "      <td>3,435,201.00</td>\n",
       "      <td>527,097.00</td>\n",
       "      <td>1,241,249.00</td>\n",
       "      <td>2,721,049.00</td>\n",
       "    </tr>\n",
       "    <tr>\n",
       "      <th>2018-12-31</th>\n",
       "      <td>3,063,601.00</td>\n",
       "      <td>495,341.00</td>\n",
       "      <td>2,196,100.00</td>\n",
       "      <td>1,362,842.00</td>\n",
       "    </tr>\n",
       "    <tr>\n",
       "      <th>2017-12-31</th>\n",
       "      <td>1,642,873.00</td>\n",
       "      <td>483,318.00</td>\n",
       "      <td>754,374.00</td>\n",
       "      <td>1,371,817.00</td>\n",
       "    </tr>\n",
       "  </tbody>\n",
       "</table>\n",
       "</div>"
      ],
      "text/plain": [
       "            profit_after_tax  depreciation  capital_expense  net_cash_flow\n",
       "2021-12-31      3,416,584.00    595,676.00     1,843,994.00   2,168,266.00\n",
       "2020-12-31      3,637,018.00    542,956.00     2,003,078.00   2,176,896.00\n",
       "2019-12-31      3,435,201.00    527,097.00     1,241,249.00   2,721,049.00\n",
       "2018-12-31      3,063,601.00    495,341.00     2,196,100.00   1,362,842.00\n",
       "2017-12-31      1,642,873.00    483,318.00       754,374.00   1,371,817.00"
      ]
     },
     "execution_count": 25,
     "metadata": {},
     "output_type": "execute_result"
    }
   ],
   "source": [
    "valuation"
   ]
  },
  {
   "cell_type": "code",
   "execution_count": 26,
   "metadata": {},
   "outputs": [
    {
     "data": {
      "text/plain": [
       "array([1.15      , 1.3225    , 1.520875  , 1.74900625, 2.01135719,\n",
       "       2.11192505])"
      ]
     },
     "execution_count": 26,
     "metadata": {},
     "output_type": "execute_result"
    }
   ],
   "source": [
    "discount_rate = 0.12    # 折现率，仅供参考\n",
    "continue_rate = 0.05    # 永续经营增长率，通常固定为0.05\n",
    "\n",
    "# 估算收入的增长率\n",
    "growth_rate_max = 1+ pl_sum['growth_rate'].max()    # 最大\n",
    "growth_rate_mean = 1 + pl_sum['growth_rate'].mean()    # 平均\n",
    "growth_rate_min = 1 + pl_sum['growth_rate'].min()    # 最小\n",
    "# growth_rate3 = np.percentile(pl_sum['growth_rate'], 75)    # 75分位\n",
    "\n",
    "growth_rate = 1.15    # 增长率的选择可以调节\n",
    "growth_rate_continue = 1.05\n",
    "\n",
    "\n",
    "# 未来5年的增长比例，第6个是永续经营的比例\n",
    "a = np.logspace(1,5,5, base=growth_rate)\n",
    "growth_rates = np.append(a, a[4] * growth_rate_continue)\n",
    "growth_rates\n"
   ]
  },
  {
   "cell_type": "code",
   "execution_count": 27,
   "metadata": {},
   "outputs": [
    {
     "data": {
      "text/plain": [
       "array([19314555.9       , 22211739.285     , 25543500.17775   ,\n",
       "       29375025.20441249, 33781278.98507436, 35470342.93432808])"
      ]
     },
     "execution_count": 27,
     "metadata": {},
     "output_type": "execute_result"
    }
   ],
   "source": [
    "# 预测未来收入，只和增长率相关\n",
    "revenu_forecast = pl_sum.iloc[0, 0] * growth_rates\n",
    "revenu_forecast"
   ]
  },
  {
   "cell_type": "code",
   "execution_count": 28,
   "metadata": {},
   "outputs": [
    {
     "data": {
      "text/plain": [
       "array([3929071.6       , 4518432.34      , 5196197.191     ,\n",
       "       5975626.76965   , 6871970.7850975 , 7215569.32435237])"
      ]
     },
     "execution_count": 28,
     "metadata": {},
     "output_type": "execute_result"
    }
   ],
   "source": [
    "# 预测未来净利润， 只和增长率相关\n",
    "profit_forecast = valuation.iloc[0,0] * growth_rates\n",
    "profit_forecast"
   ]
  },
  {
   "cell_type": "code",
   "execution_count": 29,
   "metadata": {},
   "outputs": [
    {
     "data": {
      "text/plain": [
       "operat_current        0.46\n",
       "operat_non_curr       0.60\n",
       "operat_liability      0.13\n",
       "financial_assets      0.17\n",
       "financial_liability   0.09\n",
       "equity                1.01\n",
       "operat_net_assets     0.93\n",
       "capital_expense       0.11\n",
       "dtype: float64"
      ]
     },
     "execution_count": 29,
     "metadata": {},
     "output_type": "execute_result"
    }
   ],
   "source": [
    "# 预测未来5年资本支出\n",
    "bs_rate = bs_sum.sum() / pl_sum['total_revenu'].sum()    # 各资本项占销售收入的历史比率\n",
    "bs_rate"
   ]
  },
  {
   "cell_type": "code",
   "execution_count": 30,
   "metadata": {},
   "outputs": [],
   "source": [
    "bs_forecast0 = bs_rate.head(5) * revenu_forecast[0]    # 基于未来的销售收入预测第一年bs项，只提取前5项\n",
    "\n",
    "# b = np.logspace(0,4,5, base=growth_rate_max)\n",
    "# np.append(b, b[4] * 1.05)"
   ]
  },
  {
   "cell_type": "code",
   "execution_count": 31,
   "metadata": {},
   "outputs": [],
   "source": [
    "#np.expand_dims(b, 0).repeat(8, axis=0)\n",
    "#np.expand_dims(bs_forecast.T, 0).repeat(5, axis=1)\n",
    "bs_last = bs_sum.iloc[0].head(5)"
   ]
  },
  {
   "cell_type": "code",
   "execution_count": 32,
   "metadata": {},
   "outputs": [],
   "source": [
    "# 分步计算第二至五年和第六个永续经营的资本支出项\n",
    "bs_forecast1 = bs_forecast0 * growth_rate\n",
    "bs_forecast2 = bs_forecast1 * growth_rate\n",
    "bs_forecast3 = bs_forecast2 * growth_rate\n",
    "bs_forecast4 = bs_forecast3 * growth_rate\n",
    "bs_forecast5 = bs_forecast4 * growth_rate_continue"
   ]
  },
  {
   "cell_type": "code",
   "execution_count": 33,
   "metadata": {},
   "outputs": [
    {
     "data": {
      "text/html": [
       "<div>\n",
       "<style scoped>\n",
       "    .dataframe tbody tr th:only-of-type {\n",
       "        vertical-align: middle;\n",
       "    }\n",
       "\n",
       "    .dataframe tbody tr th {\n",
       "        vertical-align: top;\n",
       "    }\n",
       "\n",
       "    .dataframe thead th {\n",
       "        text-align: right;\n",
       "    }\n",
       "</style>\n",
       "<table border=\"1\" class=\"dataframe\">\n",
       "  <thead>\n",
       "    <tr style=\"text-align: right;\">\n",
       "      <th></th>\n",
       "      <th>2021-12-31</th>\n",
       "      <th>0</th>\n",
       "      <th>1</th>\n",
       "      <th>2</th>\n",
       "      <th>3</th>\n",
       "      <th>4</th>\n",
       "      <th>5</th>\n",
       "    </tr>\n",
       "  </thead>\n",
       "  <tbody>\n",
       "    <tr>\n",
       "      <th>operat_current</th>\n",
       "      <td>8,709,450.00</td>\n",
       "      <td>8,843,875.87</td>\n",
       "      <td>10,170,457.25</td>\n",
       "      <td>11,696,025.84</td>\n",
       "      <td>13,450,429.71</td>\n",
       "      <td>15,467,994.17</td>\n",
       "      <td>16,241,393.88</td>\n",
       "    </tr>\n",
       "    <tr>\n",
       "      <th>operat_non_curr</th>\n",
       "      <td>10,288,618.00</td>\n",
       "      <td>11,627,803.49</td>\n",
       "      <td>13,371,974.02</td>\n",
       "      <td>15,377,770.12</td>\n",
       "      <td>17,684,435.64</td>\n",
       "      <td>20,337,100.98</td>\n",
       "      <td>21,353,956.03</td>\n",
       "    </tr>\n",
       "    <tr>\n",
       "      <th>operat_liability</th>\n",
       "      <td>2,252,210.00</td>\n",
       "      <td>2,480,060.13</td>\n",
       "      <td>2,852,069.15</td>\n",
       "      <td>3,279,879.52</td>\n",
       "      <td>3,771,861.45</td>\n",
       "      <td>4,337,640.67</td>\n",
       "      <td>4,554,522.71</td>\n",
       "    </tr>\n",
       "    <tr>\n",
       "      <th>financial_assets</th>\n",
       "      <td>3,233,668.00</td>\n",
       "      <td>3,206,580.03</td>\n",
       "      <td>3,687,567.03</td>\n",
       "      <td>4,240,702.09</td>\n",
       "      <td>4,876,807.40</td>\n",
       "      <td>5,608,328.51</td>\n",
       "      <td>5,888,744.94</td>\n",
       "    </tr>\n",
       "    <tr>\n",
       "      <th>financial_liability</th>\n",
       "      <td>1,251,286.00</td>\n",
       "      <td>1,667,634.27</td>\n",
       "      <td>1,917,779.42</td>\n",
       "      <td>2,205,446.33</td>\n",
       "      <td>2,536,263.28</td>\n",
       "      <td>2,916,702.77</td>\n",
       "      <td>3,062,537.91</td>\n",
       "    </tr>\n",
       "  </tbody>\n",
       "</table>\n",
       "</div>"
      ],
      "text/plain": [
       "                       2021-12-31             0             1             2  \\\n",
       "operat_current       8,709,450.00  8,843,875.87 10,170,457.25 11,696,025.84   \n",
       "operat_non_curr     10,288,618.00 11,627,803.49 13,371,974.02 15,377,770.12   \n",
       "operat_liability     2,252,210.00  2,480,060.13  2,852,069.15  3,279,879.52   \n",
       "financial_assets     3,233,668.00  3,206,580.03  3,687,567.03  4,240,702.09   \n",
       "financial_liability  1,251,286.00  1,667,634.27  1,917,779.42  2,205,446.33   \n",
       "\n",
       "                                3             4             5  \n",
       "operat_current      13,450,429.71 15,467,994.17 16,241,393.88  \n",
       "operat_non_curr     17,684,435.64 20,337,100.98 21,353,956.03  \n",
       "operat_liability     3,771,861.45  4,337,640.67  4,554,522.71  \n",
       "financial_assets     4,876,807.40  5,608,328.51  5,888,744.94  \n",
       "financial_liability  2,536,263.28  2,916,702.77  3,062,537.91  "
      ]
     },
     "execution_count": 33,
     "metadata": {},
     "output_type": "execute_result"
    }
   ],
   "source": [
    "operate = pd.concat([bs_last, bs_forecast0, bs_forecast1, bs_forecast2, bs_forecast3, bs_forecast4, bs_forecast5], axis=1)\n",
    "operate"
   ]
  },
  {
   "cell_type": "code",
   "execution_count": 34,
   "metadata": {},
   "outputs": [
    {
     "data": {
      "text/plain": [
       "-1982382.0"
      ]
     },
     "execution_count": 34,
     "metadata": {},
     "output_type": "execute_result"
    }
   ],
   "source": [
    "# 计算当年净负债，供NPV扣减净负债时用\n",
    "net_liability = operate.iloc[4,0]-operate.iloc[3,0]    # Pandas的iloc函数只看行列的序号，不看行列的标号\n",
    "net_liability"
   ]
  },
  {
   "cell_type": "code",
   "execution_count": 35,
   "metadata": {},
   "outputs": [],
   "source": [
    "# 计算经营性净资产\n",
    "net_operate = operate.iloc[0]+operate.iloc[1]-operate.iloc[2]"
   ]
  },
  {
   "cell_type": "code",
   "execution_count": 36,
   "metadata": {},
   "outputs": [],
   "source": [
    "# 计算未来5年和永续经营的资本支出\n",
    "capex_forecast = net_operate - net_operate.shift(1) \n",
    "# 提取前6项\n",
    "capex_forecast = np.array(capex_forecast)[1:7]"
   ]
  },
  {
   "cell_type": "code",
   "execution_count": 37,
   "metadata": {},
   "outputs": [
    {
     "data": {
      "text/plain": [
       "array([1245761.23074213, 2698742.88461132, 3103554.31730302,\n",
       "       3569087.46489847, 4104450.58463323, 1573372.72410941])"
      ]
     },
     "execution_count": 37,
     "metadata": {},
     "output_type": "execute_result"
    }
   ],
   "source": [
    "capex_forecast"
   ]
  },
  {
   "cell_type": "code",
   "execution_count": 38,
   "metadata": {},
   "outputs": [],
   "source": [
    "# 预测5年的折旧\n",
    "c = np.array(valuation['depreciation'])\n",
    "c = c[0:3]\n",
    "depre = c[::-1]"
   ]
  },
  {
   "cell_type": "code",
   "execution_count": 39,
   "metadata": {},
   "outputs": [],
   "source": [
    "# g = np.full(5, growth_rate_max)    # 用指定增长率构造一个5元数组\n",
    "# growth_rates = np.append(growth_rates, growth_rate_continue)\n",
    "\n",
    "for i in np.arange(3,9):    # 构造整数序列\n",
    "    d = (depre[(i-3)] + depre[(i-2)] + depre[(i-1)]) / 3     # 前三年的平均折旧金额\n",
    "    d = d * growth_rate\n",
    "    depre = np.append(depre, d)\n",
    "\n",
    "depre_forecast = depre[3:9]    # 截取最后6项, 未来5年加永续经营"
   ]
  },
  {
   "cell_type": "code",
   "execution_count": 40,
   "metadata": {},
   "outputs": [
    {
     "data": {
      "text/plain": [
       "array([638529.45      , 681245.2225    , 734256.091125  , 787378.45938958,\n",
       "       844437.24632226, 906994.18878746])"
      ]
     },
     "execution_count": 40,
     "metadata": {},
     "output_type": "execute_result"
    }
   ],
   "source": [
    "depre_forecast"
   ]
  },
  {
   "cell_type": "code",
   "execution_count": 41,
   "metadata": {},
   "outputs": [],
   "source": [
    "# 计算现金流量\n",
    "forecast_net_cash = profit_forecast + depre_forecast - capex_forecast\n",
    "ca1 = forecast_net_cash[0:5]    # 只计算今后5年\n",
    "ca2 = np.concatenate(([0], ca1))    # 当年的现金流要设为0，适应numpy的npv函数设定\n",
    "contin = forecast_net_cash[5] / (discount_rate - continue_rate)\n",
    "ca = np.concatenate((ca2, [contin]))    # 添加永续经营现金流"
   ]
  },
  {
   "cell_type": "code",
   "execution_count": 42,
   "metadata": {},
   "outputs": [],
   "source": [
    "# 计算净现值NPV，此处有瑕疵，永续经营现金流contin所对应的折现系数应采用第五年的值，为方便直接放到npv函数里取到的是第六年的值，使最终估值略偏小！！！\n",
    "net_present_value = np.npv(discount_rate, ca)    # 利用numpy的npv函数计算净现值\n",
    "estimated_stock_value = (net_present_value - net_liability) / total_shares    # 净现值扣除当前净负债"
   ]
  },
  {
   "cell_type": "code",
   "execution_count": 43,
   "metadata": {},
   "outputs": [
    {
     "data": {
      "text/plain": [
       "114.04114928078381"
      ]
     },
     "execution_count": 43,
     "metadata": {},
     "output_type": "execute_result"
    }
   ],
   "source": [
    "# 输出估值\n",
    "estimated_stock_value[0]    # 最终估值"
   ]
  },
  {
   "cell_type": "markdown",
   "metadata": {},
   "source": [
    "#### 2.财务指标\n",
    "\n"
   ]
  },
  {
   "cell_type": "code",
   "execution_count": 5,
   "metadata": {},
   "outputs": [
    {
     "name": "stdout",
     "output_type": "stream",
     "text": [
      "http://quotes.money.163.com/service/zycwzb_600585.html?type=year \n",
      " http://quotes.money.163.com/service/zycwzb_600585.html?type=year&part=ylnl \n",
      " http://quotes.money.163.com/service/zycwzb_600585.html?type=year&part=chnl \n",
      " http://quotes.money.163.com/service/zycwzb_600585.html?type=year&part=ylnl \n",
      " http://quotes.money.163.com/service/zycwzb_600585.html?type=year&part=chnl\n"
     ]
    }
   ],
   "source": [
    "# 网易也提供了比较完整的财务指标数据\n",
    "table4 = \"zycwzb_\"\n",
    "stock = \"600585\"    # 根据需求变更stock中的股票代码\n",
    "type = \".html?type=year\"\n",
    "part5 = \"&part=ylnl\"\n",
    "part6 = \"&part=chnl\"\n",
    "part7 = \"&part=cznl\"\n",
    "part8 = \"&part=yynl\"\n",
    "\n",
    "target4 = server + path + table4 + stock + type\n",
    "target5 = server + path + table4 + stock + type + part5\n",
    "target6 = server + path + table4 + stock + type + part6\n",
    "target7 = server + path + table4 + stock + type + part7\n",
    "target8 = server + path + table4 + stock + type + part8\n",
    "\n",
    "print(target4, '\\n', target5, '\\n', target6, '\\n', target5, '\\n', target6)"
   ]
  },
  {
   "cell_type": "code",
   "execution_count": 6,
   "metadata": {},
   "outputs": [],
   "source": [
    "# 获取主要财务指标文件\n",
    "df4 = pd.read_csv(target4, header=0, encoding=\"gb18030\")    # 主要财务指标\n",
    "df5 = pd.read_csv(target5, header=0, encoding=\"gb18030\")    # 盈利能力\n",
    "df6 = pd.read_csv(target6, header=0, encoding=\"gb18030\")    # 偿还能力\n",
    "df7 = pd.read_csv(target7, header=0, encoding=\"gb18030\")    # 成长能力\n",
    "df8 = pd.read_csv(target8, header=0, encoding=\"gb18030\")    # 营运能力"
   ]
  },
  {
   "cell_type": "code",
   "execution_count": 71,
   "metadata": {},
   "outputs": [],
   "source": [
    "# 应付-应受 ： 应付票据+应付账款+预收账款 - 应收票据+应收账款+预付账款。无偿占用供销两头的资金大于0\n",
    "occupied = (bs[58] + bs[59] + bs[60]) - (bs[5] + bs[6] + bs[7])\n"
   ]
  },
  {
   "cell_type": "code",
   "execution_count": 47,
   "metadata": {},
   "outputs": [],
   "source": [
    "# 应收占比: 小于3%，大于10%要淘汰。 产品销售难易度，产品竞争力\n",
    "ar_rate = bs[6] / bs[51]"
   ]
  },
  {
   "cell_type": "code",
   "execution_count": 48,
   "metadata": {},
   "outputs": [],
   "source": [
    "# 固定资产占比： 不大于40%，固定资产+在建工程+工程物资。 维持竞争力的成本\n",
    "fixed_rate = (bs[36] + bs[37] + bs[38]) / bs[51]"
   ]
  },
  {
   "cell_type": "code",
   "execution_count": 72,
   "metadata": {},
   "outputs": [],
   "source": [
    "# 投资类资产占比： 企业专注度。可供出售金融资产+长期股权投资+其他长期投资+投资性房地产\n",
    "investment = (bs[26] + bs[29] + bs[30] + bs[31]) / bs[51]"
   ]
  },
  {
   "cell_type": "code",
   "execution_count": 49,
   "metadata": {},
   "outputs": [],
   "source": [
    "# 存货占比: 小于5%\n",
    "inventory_rate = bs[19] / bs[51]"
   ]
  },
  {
   "cell_type": "code",
   "execution_count": 50,
   "metadata": {},
   "outputs": [],
   "source": [
    "# 商誉占比: 小于10%\n",
    "goodwill_rate = bs[45] / bs[51]"
   ]
  },
  {
   "cell_type": "code",
   "execution_count": 74,
   "metadata": {},
   "outputs": [
    {
     "data": {
      "text/plain": [
       "2021-12-31   1.19\n",
       "2020-12-31   1.21\n",
       "2019-12-31   1.25\n",
       "2018-12-31   1.28\n",
       "2017-12-31   1.23\n",
       "2016-12-31   1.24\n",
       "2015-12-31   1.27\n",
       "2014-12-31   1.34\n",
       "2013-12-31   1.28\n",
       "2012-12-31   1.32\n",
       "2011-12-31   1.18\n",
       "2010-12-31   1.17\n",
       "2009-12-31   1.32\n",
       "2008-12-31   1.25\n",
       "2007-12-31   1.14\n",
       "2006-12-31   1.09\n",
       "dtype: float64"
      ]
     },
     "execution_count": 74,
     "metadata": {},
     "output_type": "execute_result"
    }
   ],
   "source": [
    "# 商品服务收入现金 / 营业收入: 大于110%\n",
    "cf[' 销售商品、提供劳务收到的现金(万元)'] / pl['营业总收入(万元)']"
   ]
  },
  {
   "cell_type": "code",
   "execution_count": 52,
   "metadata": {},
   "outputs": [],
   "source": [
    "# 期间费率： 小于40%，成本管控力\n",
    "sga = (pl['销售费用(万元)'] + pl['管理费用(万元)'] + pl['研发费用(万元)'] + pl['财务费用(万元)']) / pl['营业收入(万元)']    "
   ]
  },
  {
   "cell_type": "code",
   "execution_count": 53,
   "metadata": {},
   "outputs": [],
   "source": [
    "# ROE: 归属于母公司所有者的净利润 / 归属于母公司股东权益合计\n",
    "roe = pl['归属于母公司所有者的净利润(万元)'] / bs[104]"
   ]
  },
  {
   "cell_type": "code",
   "execution_count": 75,
   "metadata": {},
   "outputs": [
    {
     "data": {
      "text/plain": [
       "2021-12-31   -0.025769\n",
       "2020-12-31   -0.145833\n",
       "2019-12-31    0.129766\n",
       "2018-12-31    1.076767\n",
       "2017-12-31    0.315705\n",
       "2016-12-31    0.331906\n",
       "2015-12-31   -0.438773\n",
       "2014-12-31    0.161590\n",
       "2013-12-31    0.320621\n",
       "2012-12-31    0.096917\n",
       "2011-12-31    0.745635\n",
       "2010-12-31   -0.144969\n",
       "2009-12-31    0.334762\n",
       "2008-12-31    0.973303\n",
       "2007-12-31   -0.125763\n",
       "2006-12-31         NaN\n",
       "Name:  经营活动产生的现金流量净额(万元), dtype: float64"
      ]
     },
     "execution_count": 75,
     "metadata": {},
     "output_type": "execute_result"
    }
   ],
   "source": [
    "# 经营现金流净额： 造血能力\n",
    "(cf[' 经营活动产生的现金流量净额(万元)'] - cf[' 经营活动产生的现金流量净额(万元)'].shift(-1)) / cf[' 经营活动产生的现金流量净额(万元)'].shift(-1)"
   ]
  },
  {
   "cell_type": "code",
   "execution_count": 74,
   "metadata": {},
   "outputs": [
    {
     "data": {
      "text/plain": [
       "2021-12-31    0.448439\n",
       "2020-12-31    0.286523\n",
       "2019-12-31    0.217833\n",
       "2018-12-31    0.131688\n",
       "2017-12-31    0.210570\n",
       "2016-12-31    0.377479\n",
       "2015-12-31    0.521527\n",
       "2014-12-31    0.395001\n",
       "2013-12-31    0.497519\n",
       "2012-12-31    0.592170\n",
       "2011-12-31    0.786337\n",
       "2010-12-31    1.541829\n",
       "2009-12-31    1.138404\n",
       "2008-12-31    0.978378\n",
       "2007-12-31    2.092401\n",
       "2006-12-31    1.144369\n",
       "dtype: float64"
      ]
     },
     "execution_count": 74,
     "metadata": {},
     "output_type": "execute_result"
    }
   ],
   "source": [
    "# 固定资产支付现金占比: 未来成长的能力\n",
    "cf[' 购建固定资产、无形资产和其他长期资产所支付的现金(万元)'] / cf[' 经营活动产生的现金流量净额(万元)']"
   ]
  },
  {
   "cell_type": "code",
   "execution_count": null,
   "metadata": {},
   "outputs": [],
   "source": [
    "eps = pl['基本每股收益']"
   ]
  },
  {
   "cell_type": "code",
   "execution_count": 77,
   "metadata": {},
   "outputs": [
    {
     "data": {
      "text/html": [
       "<div>\n",
       "<style scoped>\n",
       "    .dataframe tbody tr th:only-of-type {\n",
       "        vertical-align: middle;\n",
       "    }\n",
       "\n",
       "    .dataframe tbody tr th {\n",
       "        vertical-align: top;\n",
       "    }\n",
       "\n",
       "    .dataframe thead th {\n",
       "        text-align: right;\n",
       "    }\n",
       "</style>\n",
       "<table border=\"1\" class=\"dataframe\">\n",
       "  <thead>\n",
       "    <tr style=\"text-align: right;\">\n",
       "      <th>报告日期</th>\n",
       "      <th>投资活动产生的现金流量净额(万元)</th>\n",
       "      <th>筹资活动产生的现金流量净额(万元)</th>\n",
       "    </tr>\n",
       "  </thead>\n",
       "  <tbody>\n",
       "    <tr>\n",
       "      <th>2021-12-31</th>\n",
       "      <td>-2166696.0</td>\n",
       "      <td>-1160447.0</td>\n",
       "    </tr>\n",
       "    <tr>\n",
       "      <th>2020-12-31</th>\n",
       "      <td>-2677288.0</td>\n",
       "      <td>-1326202.0</td>\n",
       "    </tr>\n",
       "    <tr>\n",
       "      <th>2019-12-31</th>\n",
       "      <td>-2068885.0</td>\n",
       "      <td>-791190.0</td>\n",
       "    </tr>\n",
       "    <tr>\n",
       "      <th>2018-12-31</th>\n",
       "      <td>-2566970.0</td>\n",
       "      <td>-1098000.0</td>\n",
       "    </tr>\n",
       "    <tr>\n",
       "      <th>2017-12-31</th>\n",
       "      <td>-520265.0</td>\n",
       "      <td>-749961.0</td>\n",
       "    </tr>\n",
       "    <tr>\n",
       "      <th>2016-12-31</th>\n",
       "      <td>-455225.0</td>\n",
       "      <td>-715095.0</td>\n",
       "    </tr>\n",
       "    <tr>\n",
       "      <th>2015-12-31</th>\n",
       "      <td>-1271927.0</td>\n",
       "      <td>-539532.0</td>\n",
       "    </tr>\n",
       "    <tr>\n",
       "      <th>2014-12-31</th>\n",
       "      <td>-485111.0</td>\n",
       "      <td>-678568.0</td>\n",
       "    </tr>\n",
       "    <tr>\n",
       "      <th>2013-12-31</th>\n",
       "      <td>-1247633.0</td>\n",
       "      <td>-428937.0</td>\n",
       "    </tr>\n",
       "    <tr>\n",
       "      <th>2012-12-31</th>\n",
       "      <td>-846966.0</td>\n",
       "      <td>-267092.0</td>\n",
       "    </tr>\n",
       "    <tr>\n",
       "      <th>2011-12-31</th>\n",
       "      <td>-1016226.0</td>\n",
       "      <td>472848.0</td>\n",
       "    </tr>\n",
       "    <tr>\n",
       "      <th>2010-12-31</th>\n",
       "      <td>-1034121.0</td>\n",
       "      <td>344717.0</td>\n",
       "    </tr>\n",
       "    <tr>\n",
       "      <th>2009-12-31</th>\n",
       "      <td>-781315.0</td>\n",
       "      <td>-239453.0</td>\n",
       "    </tr>\n",
       "    <tr>\n",
       "      <th>2008-12-31</th>\n",
       "      <td>-636002.0</td>\n",
       "      <td>643315.0</td>\n",
       "    </tr>\n",
       "    <tr>\n",
       "      <th>2007-12-31</th>\n",
       "      <td>-573533.0</td>\n",
       "      <td>314300.0</td>\n",
       "    </tr>\n",
       "    <tr>\n",
       "      <th>2006-12-31</th>\n",
       "      <td>-331859.0</td>\n",
       "      <td>11768.0</td>\n",
       "    </tr>\n",
       "  </tbody>\n",
       "</table>\n",
       "</div>"
      ],
      "text/plain": [
       " 报告日期        投资活动产生的现金流量净额(万元)   筹资活动产生的现金流量净额(万元)\n",
       "2021-12-31          -2166696.0          -1160447.0\n",
       "2020-12-31          -2677288.0          -1326202.0\n",
       "2019-12-31          -2068885.0           -791190.0\n",
       "2018-12-31          -2566970.0          -1098000.0\n",
       "2017-12-31           -520265.0           -749961.0\n",
       "2016-12-31           -455225.0           -715095.0\n",
       "2015-12-31          -1271927.0           -539532.0\n",
       "2014-12-31           -485111.0           -678568.0\n",
       "2013-12-31          -1247633.0           -428937.0\n",
       "2012-12-31           -846966.0           -267092.0\n",
       "2011-12-31          -1016226.0            472848.0\n",
       "2010-12-31          -1034121.0            344717.0\n",
       "2009-12-31           -781315.0           -239453.0\n",
       "2008-12-31           -636002.0            643315.0\n",
       "2007-12-31           -573533.0            314300.0\n",
       "2006-12-31           -331859.0             11768.0"
      ]
     },
     "execution_count": 77,
     "metadata": {},
     "output_type": "execute_result"
    }
   ],
   "source": [
    "cf[[' 投资活动产生的现金流量净额(万元)',' 筹资活动产生的现金流量净额(万元)']]"
   ]
  },
  {
   "cell_type": "markdown",
   "metadata": {},
   "source": [
    "#### 3. 历史成交"
   ]
  },
  {
   "cell_type": "code",
   "execution_count": 6,
   "metadata": {},
   "outputs": [
    {
     "name": "stdout",
     "output_type": "stream",
     "text": [
      "0600585\n"
     ]
    }
   ],
   "source": [
    "# 股票代码, 沪市加0，深市加1\n",
    "if stock[0:1] == '6':\n",
    "    code = '0' + stock\n",
    "elif stock[0:1] == '0':\n",
    "    code = '1' + stock\n",
    "elif stock[0:1] == '3':\n",
    "    code = '1' + stock\n",
    "\n",
    "print(code)"
   ]
  },
  {
   "cell_type": "code",
   "execution_count": 7,
   "metadata": {},
   "outputs": [
    {
     "name": "stdout",
     "output_type": "stream",
     "text": [
      "http://quotes.money.163.com/service/chddata.html?code=0600585&start=20220701\n"
     ]
    }
   ],
   "source": [
    "# 基于网易构造历史成交数据源URL\n",
    "\n",
    "type = \"chddata.html?code=\"\n",
    "\n",
    "start = \"&start=20220701\"\n",
    "end = \"&end=20190801\"\n",
    "\n",
    "target9 = server + path + type + code + start# + end\n",
    "\n",
    "\n",
    "print(target9)"
   ]
  },
  {
   "cell_type": "code",
   "execution_count": 8,
   "metadata": {},
   "outputs": [],
   "source": [
    "# 获取成交历史原始数据\n",
    "df9 = pd.read_csv(target9, header=0, encoding=\"gb18030\")\n"
   ]
  },
  {
   "cell_type": "code",
   "execution_count": 21,
   "metadata": {},
   "outputs": [],
   "source": [
    "price = df9.loc[0, '收盘价']"
   ]
  }
 ],
 "metadata": {
  "kernelspec": {
   "display_name": "Python 3.6.8 ('quant')",
   "language": "python",
   "name": "python3"
  },
  "language_info": {
   "codemirror_mode": {
    "name": "ipython",
    "version": 3
   },
   "file_extension": ".py",
   "mimetype": "text/x-python",
   "name": "python",
   "nbconvert_exporter": "python",
   "pygments_lexer": "ipython3",
   "version": "3.6.8"
  },
  "orig_nbformat": 4,
  "vscode": {
   "interpreter": {
    "hash": "2d44fe577dda23051872a106718e33869c39c1c1dde443a8c9f1eec01b461181"
   }
  }
 },
 "nbformat": 4,
 "nbformat_minor": 2
}
