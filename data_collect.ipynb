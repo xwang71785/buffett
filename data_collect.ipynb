{
 "cells": [
  {
   "cell_type": "code",
   "execution_count": 1,
   "metadata": {},
   "outputs": [],
   "source": [
    "# 在本机上建立MySQL数据库用来存放采集自the Internet的数据\n",
    "import pandas as pd\n",
    "import pymysql  \n",
    "from sqlalchemy import create_engine"
   ]
  },
  {
   "cell_type": "code",
   "execution_count": 2,
   "metadata": {},
   "outputs": [],
   "source": [
    "# 基于pymysql建立数据库连接\n",
    "db_conn = pymysql.connect(\n",
    "    host = 'localhost',\n",
    "    port = 3306,\n",
    "    user = 'buffett',\n",
    "    password = '',    # \n",
    "    database = 'test',\n",
    "    charset = ''    # gbk, gb18030, utf8mb4, 国内部分数据源的中文不支持utf8\n",
    ")"
   ]
  },
  {
   "cell_type": "code",
   "execution_count": 3,
   "metadata": {},
   "outputs": [],
   "source": [
    "# 读取数据库表格可以直接使用Pandas和pymysql\n",
    "sql0 = 'select * from test_usr'\n",
    "df0 = pd.read_sql(sql0, con=db_conn)\n",
    "\n",
    "db_conn.close()     # 关闭数据库连接"
   ]
  },
  {
   "cell_type": "code",
   "execution_count": 5,
   "metadata": {},
   "outputs": [],
   "source": [
    "engine = create_engine('mysql+pymysql://buffett:@localhost:3306/test')\n",
    "sql1 = \"select * from test_usr;\"\n",
    "df1 = pd.read_sql_query(sql1, engine)"
   ]
  },
  {
   "cell_type": "code",
   "execution_count": 6,
   "metadata": {},
   "outputs": [],
   "source": [
    "engine.dispose()    # 关闭数据库连接引擎"
   ]
  }
 ],
 "metadata": {
  "kernelspec": {
   "display_name": "Python 3.6.8 ('quant')",
   "language": "python",
   "name": "python3"
  },
  "language_info": {
   "codemirror_mode": {
    "name": "ipython",
    "version": 3
   },
   "file_extension": ".py",
   "mimetype": "text/x-python",
   "name": "python",
   "nbconvert_exporter": "python",
   "pygments_lexer": "ipython3",
   "version": "3.6.8"
  },
  "orig_nbformat": 4,
  "vscode": {
   "interpreter": {
    "hash": "2d44fe577dda23051872a106718e33869c39c1c1dde443a8c9f1eec01b461181"
   }
  }
 },
 "nbformat": 4,
 "nbformat_minor": 2
}
