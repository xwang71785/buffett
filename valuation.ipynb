{
 "cells": [
  {
   "cell_type": "code",
   "execution_count": 1,
   "metadata": {},
   "outputs": [],
   "source": [
    "# repo url(https://github.com/xwang71785/buffett.git)\n",
    "# 只针对中国大陆股票市场\n",
    "# 仅限于概念验证，勿用于实际投资中\n",
    "import numpy as np\n",
    "import pandas as pd\n",
    "import matplotlib.pyplot as plt\n",
    "import matplotlib as mpl"
   ]
  },
  {
   "cell_type": "code",
   "execution_count": 2,
   "metadata": {},
   "outputs": [],
   "source": [
    "import pandas_datareader.data as web\n",
    "import datetime as dt\n",
    "import matplotlib.dates as mdates"
   ]
  },
  {
   "cell_type": "code",
   "execution_count": 3,
   "metadata": {},
   "outputs": [],
   "source": [
    "# 构造数据源URL，根据需求变更stock中的股票代码来计算相对应的估值\n",
    "server = \"http://quotes.money.163.com/\"\n",
    "path = \"service/\"\n",
    "table1 = \"zcfzb_\"\n",
    "table2 = \"lrb_\"\n",
    "table3 = \"xjllb_\"\n",
    "stock = \"600585\"\n",
    "type = \".html?type=year\"\n",
    "\n",
    "target1 = server + path + table1 + stock + type\n",
    "target2 = server + path + table2 + stock + type\n",
    "target3 = server + path + table3 + stock + type"
   ]
  },
  {
   "cell_type": "code",
   "execution_count": 4,
   "metadata": {},
   "outputs": [],
   "source": [
    "# 获取三张财务报表原始数据\n",
    "df1 = pd.read_csv(target1, header=0, prefix=\"V\", encoding=\"gb18030\")\n",
    "df2 = pd.read_csv(target2, header=0, prefix=\"V\", encoding=\"gb18030\")\n",
    "df3 = pd.read_csv(target3, header=0, prefix=\"V\", encoding=\"gb18030\")"
   ]
  },
  {
   "cell_type": "code",
   "execution_count": 5,
   "metadata": {},
   "outputs": [],
   "source": [
    "# 报表行列转置\n",
    "bs = df1.transpose()\n",
    "pl = pd.DataFrame(df2.values.T, columns=df2['报告日期'], index=df2.columns)\n",
    "cf = pd.DataFrame(df3.values.T, columns=df3[' 报告日期'], index=df2.columns)"
   ]
  },
  {
   "cell_type": "code",
   "execution_count": 6,
   "metadata": {},
   "outputs": [],
   "source": [
    "bs.drop('报告日期', inplace=True)    # 删除第一行\n",
    "bs.drop(bs.tail(1).index, inplace=True)    # 删除最后一行"
   ]
  },
  {
   "cell_type": "code",
   "execution_count": 7,
   "metadata": {},
   "outputs": [],
   "source": [
    "# 将字符型数据转换成数值型\n",
    "headers_bs = bs.columns\n",
    "headers_pl = pl.columns\n",
    "headers_cf = cf.columns\n",
    "\n",
    "\n",
    "for head in headers_bs:\n",
    "    bs[head] = pd.to_numeric(bs[head], errors='coerce').fillna(0) # 不符合转换条件的设为‘Nan’，再用0替换\n",
    "\n",
    "for head in headers_pl:\n",
    "    pl[head] = pd.to_numeric(pl[head], errors='coerce').fillna(0)\n",
    "\n",
    "for head in headers_cf:\n",
    "    cf[head] = pd.to_numeric(cf[head], errors='coerce').fillna(0)"
   ]
  },
  {
   "cell_type": "code",
   "execution_count": 8,
   "metadata": {},
   "outputs": [],
   "source": [
    "bs_sum = pd.DataFrame()    # 利用column的数字标识进行分类汇总\n",
    "\n",
    "bs_sum['operat_current'] = bs[1]+bs[7]+bs[8]+bs[9]+bs[13]+bs[14]+bs[15]+bs[16]+bs[18]+bs[20]+bs[21]+bs[22]+bs[23]+bs[24]\n",
    "bs_sum['operat_non_curr'] = bs[29]+bs[30]+bs[33]+bs[34]+bs[35]+bs[36]+bs[37]+bs[38]+bs[39]+bs[40]+bs[41]+bs[43]+bs[44]+bs[45]+bs[46]+bs[47]+bs[49]+bs[50]\n",
    "bs_sum['operat_liability'] = bs[58]+bs[60]+bs[61]+bs[64]+bs[65]+bs[67]+bs[68]+bs[70]+bs[71]+bs[72]+bs[73]+bs[78]+bs[79]+bs[80]+bs[81]+bs[83]+bs[88]+bs[91]+bs[92]\n",
    "bs_sum['financial_assets'] = bs[2]+bs[3]+bs[4]+bs[5]+bs[6]+bs[10]+bs[11]+bs[12]+bs[17]+bs[19]+bs[26]+bs[27]+bs[28]+bs[31]+bs[32]+bs[42]+bs[48]\n",
    "bs_sum['financial_liability'] = bs[53]+bs[54]+bs[55]+bs[56]+bs[57]+bs[59]+bs[62]+bs[63]+bs[66]+bs[69]+bs[74]+bs[75]+bs[76]+bs[77]+bs[82]+bs[85]+bs[86]+bs[87]+bs[89]+bs[90]\n",
    "bs_sum['equity'] = bs[95]+bs[96]+bs[98]+bs[99]+bs[100]+bs[102]+bs[104]+bs[106]\n",
    "# 计算资本支出\n",
    "bs_sum['operat_net_assets'] = bs_sum['operat_current'] + bs_sum['operat_non_curr'] - bs_sum['operat_liability']\n",
    "bs_sum['capital_expense'] = bs_sum['operat_net_assets'] - bs_sum['operat_net_assets'].shift(-1)\n",
    "\n",
    "bs_sum = bs_sum.head(5)   # 只取过去5年数据\n",
    " "
   ]
  },
  {
   "cell_type": "code",
   "execution_count": 9,
   "metadata": {},
   "outputs": [
    {
     "data": {
      "text/html": [
       "<div>\n",
       "<style scoped>\n",
       "    .dataframe tbody tr th:only-of-type {\n",
       "        vertical-align: middle;\n",
       "    }\n",
       "\n",
       "    .dataframe tbody tr th {\n",
       "        vertical-align: top;\n",
       "    }\n",
       "\n",
       "    .dataframe thead th {\n",
       "        text-align: right;\n",
       "    }\n",
       "</style>\n",
       "<table border=\"1\" class=\"dataframe\">\n",
       "  <thead>\n",
       "    <tr style=\"text-align: right;\">\n",
       "      <th></th>\n",
       "      <th>operat_current</th>\n",
       "      <th>operat_non_curr</th>\n",
       "      <th>operat_liability</th>\n",
       "      <th>financial_assets</th>\n",
       "      <th>financial_liability</th>\n",
       "      <th>equity</th>\n",
       "      <th>operat_net_assets</th>\n",
       "      <th>capital_expense</th>\n",
       "    </tr>\n",
       "  </thead>\n",
       "  <tbody>\n",
       "    <tr>\n",
       "      <th>2021-12-31</th>\n",
       "      <td>12886999.0</td>\n",
       "      <td>32960204.0</td>\n",
       "      <td>5649535.0</td>\n",
       "      <td>16474384.0</td>\n",
       "      <td>1054712.0</td>\n",
       "      <td>38865450.0</td>\n",
       "      <td>40197668.0</td>\n",
       "      <td>3775620.0</td>\n",
       "    </tr>\n",
       "    <tr>\n",
       "      <th>2020-12-31</th>\n",
       "      <td>11707163.0</td>\n",
       "      <td>28754631.0</td>\n",
       "      <td>4039746.0</td>\n",
       "      <td>15422024.0</td>\n",
       "      <td>1094841.0</td>\n",
       "      <td>34327246.0</td>\n",
       "      <td>36422048.0</td>\n",
       "      <td>4179162.0</td>\n",
       "    </tr>\n",
       "    <tr>\n",
       "      <th>2019-12-31</th>\n",
       "      <td>10329869.0</td>\n",
       "      <td>26778877.0</td>\n",
       "      <td>4865860.0</td>\n",
       "      <td>13803860.0</td>\n",
       "      <td>1345522.0</td>\n",
       "      <td>29291910.0</td>\n",
       "      <td>32242886.0</td>\n",
       "      <td>2893520.0</td>\n",
       "    </tr>\n",
       "    <tr>\n",
       "      <th>2018-12-31</th>\n",
       "      <td>8571542.0</td>\n",
       "      <td>25472782.0</td>\n",
       "      <td>4694958.0</td>\n",
       "      <td>12215955.0</td>\n",
       "      <td>1201277.0</td>\n",
       "      <td>24234119.0</td>\n",
       "      <td>29349366.0</td>\n",
       "      <td>4056725.0</td>\n",
       "    </tr>\n",
       "    <tr>\n",
       "      <th>2017-12-31</th>\n",
       "      <td>5009246.0</td>\n",
       "      <td>24691691.0</td>\n",
       "      <td>4408296.0</td>\n",
       "      <td>11355227.0</td>\n",
       "      <td>1047870.0</td>\n",
       "      <td>19459638.0</td>\n",
       "      <td>25292641.0</td>\n",
       "      <td>1063984.0</td>\n",
       "    </tr>\n",
       "  </tbody>\n",
       "</table>\n",
       "</div>"
      ],
      "text/plain": [
       "            operat_current  operat_non_curr  operat_liability  \\\n",
       "2021-12-31      12886999.0       32960204.0         5649535.0   \n",
       "2020-12-31      11707163.0       28754631.0         4039746.0   \n",
       "2019-12-31      10329869.0       26778877.0         4865860.0   \n",
       "2018-12-31       8571542.0       25472782.0         4694958.0   \n",
       "2017-12-31       5009246.0       24691691.0         4408296.0   \n",
       "\n",
       "            financial_assets  financial_liability      equity  \\\n",
       "2021-12-31        16474384.0            1054712.0  38865450.0   \n",
       "2020-12-31        15422024.0            1094841.0  34327246.0   \n",
       "2019-12-31        13803860.0            1345522.0  29291910.0   \n",
       "2018-12-31        12215955.0            1201277.0  24234119.0   \n",
       "2017-12-31        11355227.0            1047870.0  19459638.0   \n",
       "\n",
       "            operat_net_assets  capital_expense  \n",
       "2021-12-31         40197668.0        3775620.0  \n",
       "2020-12-31         36422048.0        4179162.0  \n",
       "2019-12-31         32242886.0        2893520.0  \n",
       "2018-12-31         29349366.0        4056725.0  \n",
       "2017-12-31         25292641.0        1063984.0  "
      ]
     },
     "execution_count": 9,
     "metadata": {},
     "output_type": "execute_result"
    }
   ],
   "source": [
    "bs_sum "
   ]
  },
  {
   "cell_type": "code",
   "execution_count": 10,
   "metadata": {},
   "outputs": [],
   "source": [
    "pl_sum = pd.DataFrame()\n",
    "\n",
    "pl_sum['total_revenu'] = pl['营业总收入(万元)']\n",
    "pl_sum['growth_rate'] = (pl['营业总收入(万元)'] - pl['营业总收入(万元)'].shift(-1)) / pl['营业总收入(万元)']\n",
    "pl_sum['intre_expen'] = pl['利息支出(万元)']\n",
    "pl_sum['total_profit'] = pl['利润总额(万元)']\n",
    "pl_sum['net_profit'] = pl['净利润(万元)']\n",
    "pl_sum['income_tax'] = pl['所得税费用(万元)']\n",
    "pl_sum['tax_rate'] = pl['所得税费用(万元)'] / pl['利润总额(万元)']    # 计算企业所得税率\n",
    "\n",
    "pl_sum.drop('报告日期', inplace=True)    # 删除第一行\n",
    "pl_sum = pl_sum.head(5)"
   ]
  },
  {
   "cell_type": "code",
   "execution_count": 11,
   "metadata": {},
   "outputs": [
    {
     "data": {
      "text/html": [
       "<div>\n",
       "<style scoped>\n",
       "    .dataframe tbody tr th:only-of-type {\n",
       "        vertical-align: middle;\n",
       "    }\n",
       "\n",
       "    .dataframe tbody tr th {\n",
       "        vertical-align: top;\n",
       "    }\n",
       "\n",
       "    .dataframe thead th {\n",
       "        text-align: right;\n",
       "    }\n",
       "</style>\n",
       "<table border=\"1\" class=\"dataframe\">\n",
       "  <thead>\n",
       "    <tr style=\"text-align: right;\">\n",
       "      <th></th>\n",
       "      <th>total_revenu</th>\n",
       "      <th>growth_rate</th>\n",
       "      <th>intre_expen</th>\n",
       "      <th>total_profit</th>\n",
       "      <th>net_profit</th>\n",
       "      <th>income_tax</th>\n",
       "      <th>tax_rate</th>\n",
       "    </tr>\n",
       "  </thead>\n",
       "  <tbody>\n",
       "    <tr>\n",
       "      <th>2021-12-31</th>\n",
       "      <td>16795266.0</td>\n",
       "      <td>-0.049359</td>\n",
       "      <td>0.0</td>\n",
       "      <td>4411620.0</td>\n",
       "      <td>3416584.0</td>\n",
       "      <td>995036.0</td>\n",
       "      <td>0.225549</td>\n",
       "    </tr>\n",
       "    <tr>\n",
       "      <th>2020-12-31</th>\n",
       "      <td>17624268.0</td>\n",
       "      <td>0.109011</td>\n",
       "      <td>0.0</td>\n",
       "      <td>4710792.0</td>\n",
       "      <td>3637018.0</td>\n",
       "      <td>1073774.0</td>\n",
       "      <td>0.227939</td>\n",
       "    </tr>\n",
       "    <tr>\n",
       "      <th>2019-12-31</th>\n",
       "      <td>15703033.0</td>\n",
       "      <td>0.182307</td>\n",
       "      <td>0.0</td>\n",
       "      <td>4455685.0</td>\n",
       "      <td>3435201.0</td>\n",
       "      <td>1020484.0</td>\n",
       "      <td>0.229030</td>\n",
       "    </tr>\n",
       "    <tr>\n",
       "      <th>2018-12-31</th>\n",
       "      <td>12840263.0</td>\n",
       "      <td>0.413479</td>\n",
       "      <td>0.0</td>\n",
       "      <td>3962920.0</td>\n",
       "      <td>3063601.0</td>\n",
       "      <td>899318.0</td>\n",
       "      <td>0.226933</td>\n",
       "    </tr>\n",
       "    <tr>\n",
       "      <th>2017-12-31</th>\n",
       "      <td>7531082.0</td>\n",
       "      <td>0.257319</td>\n",
       "      <td>0.0</td>\n",
       "      <td>2122876.0</td>\n",
       "      <td>1642873.0</td>\n",
       "      <td>480002.0</td>\n",
       "      <td>0.226109</td>\n",
       "    </tr>\n",
       "  </tbody>\n",
       "</table>\n",
       "</div>"
      ],
      "text/plain": [
       "            total_revenu  growth_rate  intre_expen  total_profit  net_profit  \\\n",
       "2021-12-31    16795266.0    -0.049359          0.0     4411620.0   3416584.0   \n",
       "2020-12-31    17624268.0     0.109011          0.0     4710792.0   3637018.0   \n",
       "2019-12-31    15703033.0     0.182307          0.0     4455685.0   3435201.0   \n",
       "2018-12-31    12840263.0     0.413479          0.0     3962920.0   3063601.0   \n",
       "2017-12-31     7531082.0     0.257319          0.0     2122876.0   1642873.0   \n",
       "\n",
       "            income_tax  tax_rate  \n",
       "2021-12-31    995036.0  0.225549  \n",
       "2020-12-31   1073774.0  0.227939  \n",
       "2019-12-31   1020484.0  0.229030  \n",
       "2018-12-31    899318.0  0.226933  \n",
       "2017-12-31    480002.0  0.226109  "
      ]
     },
     "execution_count": 11,
     "metadata": {},
     "output_type": "execute_result"
    }
   ],
   "source": [
    "pl_sum"
   ]
  },
  {
   "cell_type": "code",
   "execution_count": 12,
   "metadata": {},
   "outputs": [],
   "source": [
    "cf_sum = pd.DataFrame()\n",
    "\n",
    "cf_sum['depr_fixed'] = cf[' 固定资产折旧、油气资产折耗、生产性物资折旧(万元)']    # 注意column的标题有一个前置空格\n",
    "cf_sum['intang_amort'] = cf[' 无形资产摊销(万元)']\n",
    "cf_sum['deferred'] = cf[' 长期待摊费用摊销(万元)']\n",
    "# cf_sum['depreciation'] = cf[' 固定资产折旧、油气资产折耗、生产性物资折旧(万元)']+cf[' 无形资产摊销(万元)']+cf[' 长期待摊费用摊销(万元)']\n",
    "\n",
    "cf_sum.drop('报告日期', inplace=True)    # 删除第一行\n",
    "cf_sum = cf_sum.head(5)"
   ]
  },
  {
   "cell_type": "code",
   "execution_count": 13,
   "metadata": {},
   "outputs": [
    {
     "data": {
      "text/html": [
       "<div>\n",
       "<style scoped>\n",
       "    .dataframe tbody tr th:only-of-type {\n",
       "        vertical-align: middle;\n",
       "    }\n",
       "\n",
       "    .dataframe tbody tr th {\n",
       "        vertical-align: top;\n",
       "    }\n",
       "\n",
       "    .dataframe thead th {\n",
       "        text-align: right;\n",
       "    }\n",
       "</style>\n",
       "<table border=\"1\" class=\"dataframe\">\n",
       "  <thead>\n",
       "    <tr style=\"text-align: right;\">\n",
       "      <th></th>\n",
       "      <th>depr_fixed</th>\n",
       "      <th>intang_amort</th>\n",
       "      <th>deferred</th>\n",
       "    </tr>\n",
       "  </thead>\n",
       "  <tbody>\n",
       "    <tr>\n",
       "      <th>2021-12-31</th>\n",
       "      <td>535191.0</td>\n",
       "      <td>60485.0</td>\n",
       "      <td>0.0</td>\n",
       "    </tr>\n",
       "    <tr>\n",
       "      <th>2020-12-31</th>\n",
       "      <td>498444.0</td>\n",
       "      <td>44512.0</td>\n",
       "      <td>0.0</td>\n",
       "    </tr>\n",
       "    <tr>\n",
       "      <th>2019-12-31</th>\n",
       "      <td>493163.0</td>\n",
       "      <td>33934.0</td>\n",
       "      <td>0.0</td>\n",
       "    </tr>\n",
       "    <tr>\n",
       "      <th>2018-12-31</th>\n",
       "      <td>464730.0</td>\n",
       "      <td>30611.0</td>\n",
       "      <td>0.0</td>\n",
       "    </tr>\n",
       "    <tr>\n",
       "      <th>2017-12-31</th>\n",
       "      <td>459028.0</td>\n",
       "      <td>24290.0</td>\n",
       "      <td>0.0</td>\n",
       "    </tr>\n",
       "  </tbody>\n",
       "</table>\n",
       "</div>"
      ],
      "text/plain": [
       "            depr_fixed  intang_amort  deferred\n",
       "2021-12-31    535191.0       60485.0       0.0\n",
       "2020-12-31    498444.0       44512.0       0.0\n",
       "2019-12-31    493163.0       33934.0       0.0\n",
       "2018-12-31    464730.0       30611.0       0.0\n",
       "2017-12-31    459028.0       24290.0       0.0"
      ]
     },
     "execution_count": 13,
     "metadata": {},
     "output_type": "execute_result"
    }
   ],
   "source": [
    "cf_sum"
   ]
  },
  {
   "cell_type": "code",
   "execution_count": 14,
   "metadata": {},
   "outputs": [],
   "source": [
    "valuation = pd.DataFrame()\n",
    "\n",
    "valuation['profit_after_tax'] = pl_sum['net_profit'] + pl_sum['intre_expen'] * (1 - pl_sum['tax_rate'] )\n",
    "valuation['depreciation'] = cf_sum['depr_fixed'] + cf_sum['intang_amort'] + cf_sum['deferred']\n",
    "valuation['capital_expense'] = bs_sum['capital_expense']\n",
    "valuation['net_cash_flow'] = valuation['profit_after_tax'] + valuation['depreciation'] - valuation['capital_expense']"
   ]
  },
  {
   "cell_type": "code",
   "execution_count": 15,
   "metadata": {},
   "outputs": [
    {
     "data": {
      "text/html": [
       "<div>\n",
       "<style scoped>\n",
       "    .dataframe tbody tr th:only-of-type {\n",
       "        vertical-align: middle;\n",
       "    }\n",
       "\n",
       "    .dataframe tbody tr th {\n",
       "        vertical-align: top;\n",
       "    }\n",
       "\n",
       "    .dataframe thead th {\n",
       "        text-align: right;\n",
       "    }\n",
       "</style>\n",
       "<table border=\"1\" class=\"dataframe\">\n",
       "  <thead>\n",
       "    <tr style=\"text-align: right;\">\n",
       "      <th></th>\n",
       "      <th>profit_after_tax</th>\n",
       "      <th>depreciation</th>\n",
       "      <th>capital_expense</th>\n",
       "      <th>net_cash_flow</th>\n",
       "    </tr>\n",
       "  </thead>\n",
       "  <tbody>\n",
       "    <tr>\n",
       "      <th>2021-12-31</th>\n",
       "      <td>3416584.0</td>\n",
       "      <td>595676.0</td>\n",
       "      <td>3775620.0</td>\n",
       "      <td>236640.0</td>\n",
       "    </tr>\n",
       "    <tr>\n",
       "      <th>2020-12-31</th>\n",
       "      <td>3637018.0</td>\n",
       "      <td>542956.0</td>\n",
       "      <td>4179162.0</td>\n",
       "      <td>812.0</td>\n",
       "    </tr>\n",
       "    <tr>\n",
       "      <th>2019-12-31</th>\n",
       "      <td>3435201.0</td>\n",
       "      <td>527097.0</td>\n",
       "      <td>2893520.0</td>\n",
       "      <td>1068778.0</td>\n",
       "    </tr>\n",
       "    <tr>\n",
       "      <th>2018-12-31</th>\n",
       "      <td>3063601.0</td>\n",
       "      <td>495341.0</td>\n",
       "      <td>4056725.0</td>\n",
       "      <td>-497783.0</td>\n",
       "    </tr>\n",
       "    <tr>\n",
       "      <th>2017-12-31</th>\n",
       "      <td>1642873.0</td>\n",
       "      <td>483318.0</td>\n",
       "      <td>1063984.0</td>\n",
       "      <td>1062207.0</td>\n",
       "    </tr>\n",
       "  </tbody>\n",
       "</table>\n",
       "</div>"
      ],
      "text/plain": [
       "            profit_after_tax  depreciation  capital_expense  net_cash_flow\n",
       "2021-12-31         3416584.0      595676.0        3775620.0       236640.0\n",
       "2020-12-31         3637018.0      542956.0        4179162.0          812.0\n",
       "2019-12-31         3435201.0      527097.0        2893520.0      1068778.0\n",
       "2018-12-31         3063601.0      495341.0        4056725.0      -497783.0\n",
       "2017-12-31         1642873.0      483318.0        1063984.0      1062207.0"
      ]
     },
     "execution_count": 15,
     "metadata": {},
     "output_type": "execute_result"
    }
   ],
   "source": [
    "valuation"
   ]
  },
  {
   "cell_type": "code",
   "execution_count": 16,
   "metadata": {},
   "outputs": [],
   "source": [
    "# 估算收入的增长率\n",
    "growth_rate1 = pl_sum['growth_rate'].max()    # 最大\n",
    "growth_rate2 = pl_sum['growth_rate'].mean()    # 平均\n",
    "growth_rate3 = pl_sum['growth_rate'].min()    # 最小\n",
    "# growth_rate3 = np.percentile(pl_sum['growth_rate'], 75)    # 75分位\n",
    "\n",
    "discount_rate = 0.12    # 折现率，仅供参考"
   ]
  },
  {
   "cell_type": "code",
   "execution_count": 17,
   "metadata": {},
   "outputs": [
    {
     "name": "stdout",
     "output_type": "stream",
     "text": [
      "0.4134791475844381 0.18255133404128535 -0.04935926587884943\n"
     ]
    }
   ],
   "source": [
    "print(growth_rate1, growth_rate2, growth_rate3)"
   ]
  },
  {
   "cell_type": "code",
   "execution_count": 43,
   "metadata": {},
   "outputs": [],
   "source": [
    "# 预测净利润，未来5年的增长比例，第6个是永续经营的比例\n",
    "a = np.logspace(1,5,5, base=1+growth_rate1)\n",
    "a = np.append(a, a[4] * 1.05)\n",
    "revenu_forecast = valuation.iloc[0, 0] * a\n",
    "net_pre_value = np.npv(discount_rate, revenu_forecast)"
   ]
  },
  {
   "cell_type": "code",
   "execution_count": 44,
   "metadata": {},
   "outputs": [
    {
     "data": {
      "text/plain": [
       "array([ 4829270.23997063,  6826072.78224858,  9648511.53760206,\n",
       "       13637969.86362837, 19276986.01762369, 20240835.31850488])"
      ]
     },
     "execution_count": 44,
     "metadata": {},
     "output_type": "execute_result"
    }
   ],
   "source": [
    "revenu_forecast"
   ]
  },
  {
   "cell_type": "code",
   "execution_count": 45,
   "metadata": {},
   "outputs": [
    {
     "data": {
      "text/plain": [
       "array([1.41347915, 1.9979233 , 2.82402292, 3.99169752, 5.6421812 ,\n",
       "       5.92429026])"
      ]
     },
     "execution_count": 45,
     "metadata": {},
     "output_type": "execute_result"
    }
   ],
   "source": [
    "a"
   ]
  },
  {
   "cell_type": "code",
   "execution_count": 21,
   "metadata": {},
   "outputs": [],
   "source": [
    "# 预测未来5年资本支出\n",
    "bs_rate = bs_sum.sum() / pl_sum['total_revenu'].sum()"
   ]
  },
  {
   "cell_type": "code",
   "execution_count": 22,
   "metadata": {},
   "outputs": [
    {
     "data": {
      "text/plain": [
       "array([1.        , 1.41347915, 1.9979233 , 2.82402292, 3.99169752,\n",
       "       4.19128239])"
      ]
     },
     "execution_count": 22,
     "metadata": {},
     "output_type": "execute_result"
    }
   ],
   "source": [
    "bs_forecast = bs_rate.head(5) * revenu_forecast[0]    # 当年bs项的预测，只提取前5项\n",
    "\n",
    "b = np.logspace(0,4,5, base=1+growth_rate1)\n",
    "np.append(b, b[4] * 1.05)"
   ]
  },
  {
   "cell_type": "code",
   "execution_count": 62,
   "metadata": {},
   "outputs": [],
   "source": [
    "#np.expand_dims(b, 0).repeat(8, axis=0)\n",
    "#np.expand_dims(bs_forecast.T, 0).repeat(5, axis=1)\n",
    "bs_last = bs_sum.iloc[0].head(5)"
   ]
  },
  {
   "cell_type": "code",
   "execution_count": 23,
   "metadata": {},
   "outputs": [],
   "source": [
    "bs_forecast1 = bs_forecast * (1 + growth_rate1)\n",
    "bs_forecast2 = bs_forecast1 * (1 + growth_rate1)\n",
    "bs_forecast3 = bs_forecast2 * (1 + growth_rate1)\n",
    "bs_forecast4 = bs_forecast3 * (1 + growth_rate1)\n",
    "bs_forecast5 = bs_forecast4 * (1 + 0.5)"
   ]
  },
  {
   "cell_type": "code",
   "execution_count": 63,
   "metadata": {},
   "outputs": [],
   "source": [
    "operate = pd.concat([bs_last, bs_forecast, bs_forecast1, bs_forecast2, bs_forecast3, bs_forecast4, bs_forecast5], axis=1)"
   ]
  },
  {
   "cell_type": "code",
   "execution_count": 64,
   "metadata": {},
   "outputs": [],
   "source": [
    "net_operate = operate.iloc[0]+operate.iloc[1]-operate.iloc[2]"
   ]
  },
  {
   "cell_type": "code",
   "execution_count": 65,
   "metadata": {},
   "outputs": [
    {
     "data": {
      "text/plain": [
       "2021-12-31             NaN\n",
       "0            -2.899659e+07\n",
       "1             4.631413e+06\n",
       "2             6.546406e+06\n",
       "3             9.253208e+06\n",
       "4             1.307922e+07\n",
       "5             2.235566e+07\n",
       "dtype: float64"
      ]
     },
     "execution_count": 65,
     "metadata": {},
     "output_type": "execute_result"
    }
   ],
   "source": [
    "net_operate - net_operate.shift(1)\n"
   ]
  },
  {
   "cell_type": "code",
   "execution_count": 77,
   "metadata": {},
   "outputs": [],
   "source": [
    "# 预测5年的折旧\n",
    "c = np.array(valuation['depreciation'])\n",
    "c = c[0:3]\n",
    "depre = c[::-1]"
   ]
  },
  {
   "cell_type": "code",
   "execution_count": 76,
   "metadata": {},
   "outputs": [
    {
     "data": {
      "text/plain": [
       "array([595676., 542956., 527097.])"
      ]
     },
     "execution_count": 76,
     "metadata": {},
     "output_type": "execute_result"
    }
   ],
   "source": [
    "c"
   ]
  },
  {
   "cell_type": "code",
   "execution_count": 78,
   "metadata": {},
   "outputs": [
    {
     "data": {
      "text/plain": [
       "array([527097., 542956., 595676.])"
      ]
     },
     "execution_count": 78,
     "metadata": {},
     "output_type": "execute_result"
    }
   ],
   "source": [
    "depre"
   ]
  },
  {
   "cell_type": "code",
   "execution_count": null,
   "metadata": {},
   "outputs": [],
   "source": []
  }
 ],
 "metadata": {
  "kernelspec": {
   "display_name": "Python 3.6.8 ('quant')",
   "language": "python",
   "name": "python3"
  },
  "language_info": {
   "codemirror_mode": {
    "name": "ipython",
    "version": 3
   },
   "file_extension": ".py",
   "mimetype": "text/x-python",
   "name": "python",
   "nbconvert_exporter": "python",
   "pygments_lexer": "ipython3",
   "version": "3.6.8"
  },
  "orig_nbformat": 4,
  "vscode": {
   "interpreter": {
    "hash": "2d44fe577dda23051872a106718e33869c39c1c1dde443a8c9f1eec01b461181"
   }
  }
 },
 "nbformat": 4,
 "nbformat_minor": 2
}
